{
 "cells": [
  {
   "cell_type": "code",
   "execution_count": 1,
   "metadata": {},
   "outputs": [],
   "source": [
    "import pandas as pd"
   ]
  },
  {
   "cell_type": "code",
   "execution_count": 2,
   "metadata": {},
   "outputs": [],
   "source": [
    "results = {\n",
    "    'all':pd.read_csv(\"../../data/results/002-003-all_features_cx_cindex.csv\"),\n",
    "    'pvalue':pd.read_csv(\"../../data/results/002-004-pvalue_features_cx_cindex.csv\"),\n",
    "    'corr':pd.read_csv(\"../../data/results/002-004-corr_features_cx_cindex.csv\"),\n",
    "    'p_corr':pd.read_csv(\"../../data/results/002-004-p_corr_features_cx_cindex.csv\"),\n",
    "    'rf':pd.read_csv(\"../../data/results/002-004-rf_features_cx_cindex.csv\"),\n",
    "    'rfe_lsvc':pd.read_csv(\"../../data/results/002-007-rfe_lsvc_features_cx_cindex.csv\"),\n",
    "    'rfe_rfc':pd.read_csv(\"../../data/results/002-007-rfe_rfc_features_cx_cindex.csv\"),\n",
    "    'rfe_xgb':pd.read_csv(\"../../data/results/002-007-rfe_xgb_features_cx_cindex.csv\")\n",
    "}\n",
    "\n",
    "features = {\n",
    "    'all': 16304,\n",
    "    'pvalue': list(pd.read_csv(\"../../data/selected_features/p-value-recur-related-train.csv\").columns),\n",
    "    'corr': list(pd.read_csv(\"../../data/selected_features/corr-recur-related-train.csv\").columns),\n",
    "    'p_corr': list(pd.read_csv(\"../../data/selected_features/cor_p-recur-related-train.csv\").columns),\n",
    "    'rf': list(pd.read_csv(\"../../data/selected_features/rf-recur-related-train.csv\").columns),\n",
    "    'rfe_lsvc': list(pd.read_csv(\"../../data/selected_features/000-features_rfe_lsvc.csv\")),\n",
    "    'rfe_rfc': list(pd.read_csv(\"../../data/selected_features/000-features_rfe_rfc.csv\")),\n",
    "    'rfe_xgb': list(pd.read_csv(\"../../data/selected_features/000-features_rfe_xgb.csv\")),\n",
    "}"
   ]
  },
  {
   "cell_type": "code",
   "execution_count": 3,
   "metadata": {},
   "outputs": [
    {
     "name": "stdout",
     "output_type": "stream",
     "text": [
      "all:\n",
      "==========\n",
      "pvalue:\n",
      "==========\n",
      "corr:\n",
      "==========\n",
      "p_corr:\n",
      "==========\n",
      "rf:\n",
      "==========\n",
      "rfe_lsvc:\n",
      "==========\n",
      "rfe_rfc:\n",
      "==========\n",
      "rfe_xgb:\n",
      "==========\n"
     ]
    }
   ],
   "source": [
    "summaries = dict()\n",
    "for exp in results.keys():\n",
    "    summaries[exp] = dict()\n",
    "\n",
    "for exp, result in results.items():\n",
    "    print(f\"{exp}:\")\n",
    "    # display(result)\n",
    "    # display(result.describe())\n",
    "    summaries[exp]['mean_cindex'] = result.describe().T['mean'].mean()\n",
    "\n",
    "    if type(features[exp]) == int: summaries[exp]['num_features'] = features[exp]\n",
    "    else: summaries[exp]['num_features'] = len(features[exp])\n",
    "    print(\"=\"*10)"
   ]
  },
  {
   "cell_type": "code",
   "execution_count": 4,
   "metadata": {},
   "outputs": [],
   "source": [
    "sorted_summaries = dict(sorted(summaries.items(), key=lambda x:x[1]['num_features'], reverse=True))"
   ]
  },
  {
   "cell_type": "code",
   "execution_count": 5,
   "metadata": {},
   "outputs": [
    {
     "name": "stdout",
     "output_type": "stream",
     "text": [
      "all\n",
      "{'mean_cindex': 0.5378037104288323, 'num_features': 16304}\n",
      "========\n",
      "p_corr\n",
      "{'mean_cindex': 0.5262179437051155, 'num_features': 6649}\n",
      "========\n",
      "pvalue\n",
      "{'mean_cindex': 0.5534869956143494, 'num_features': 5470}\n",
      "========\n",
      "corr\n",
      "{'mean_cindex': 0.5606199171355246, 'num_features': 4063}\n",
      "========\n",
      "rf\n",
      "{'mean_cindex': 0.5620744827827144, 'num_features': 2001}\n",
      "========\n",
      "rfe_lsvc\n",
      "{'mean_cindex': 0.5511828980210122, 'num_features': 644}\n",
      "========\n",
      "rfe_rfc\n",
      "{'mean_cindex': 0.5886686532249035, 'num_features': 500}\n",
      "========\n",
      "rfe_xgb\n",
      "{'mean_cindex': 0.5075615520742794, 'num_features': 500}\n",
      "========\n"
     ]
    }
   ],
   "source": [
    "for exp, summ in sorted_summaries.items():\n",
    "    print(exp)\n",
    "    print(summ)\n",
    "    print(\"=\"*8)"
   ]
  },
  {
   "attachments": {},
   "cell_type": "markdown",
   "metadata": {},
   "source": [
    "rfe_rfc 表現最好，特徵最少 cv_cindex 最高"
   ]
  },
  {
   "cell_type": "code",
   "execution_count": 6,
   "metadata": {},
   "outputs": [
    {
     "data": {
      "text/html": [
       "<div>\n",
       "<style scoped>\n",
       "    .dataframe tbody tr th:only-of-type {\n",
       "        vertical-align: middle;\n",
       "    }\n",
       "\n",
       "    .dataframe tbody tr th {\n",
       "        vertical-align: top;\n",
       "    }\n",
       "\n",
       "    .dataframe thead th {\n",
       "        text-align: right;\n",
       "    }\n",
       "</style>\n",
       "<table border=\"1\" class=\"dataframe\">\n",
       "  <thead>\n",
       "    <tr style=\"text-align: right;\">\n",
       "      <th></th>\n",
       "      <th>coxnet</th>\n",
       "      <th>rf</th>\n",
       "      <th>gb</th>\n",
       "      <th>fksvm</th>\n",
       "    </tr>\n",
       "  </thead>\n",
       "  <tbody>\n",
       "    <tr>\n",
       "      <th>0</th>\n",
       "      <td>0.564935</td>\n",
       "      <td>0.470779</td>\n",
       "      <td>0.542208</td>\n",
       "      <td>0.500000</td>\n",
       "    </tr>\n",
       "    <tr>\n",
       "      <th>1</th>\n",
       "      <td>0.706704</td>\n",
       "      <td>0.583799</td>\n",
       "      <td>0.544693</td>\n",
       "      <td>0.660615</td>\n",
       "    </tr>\n",
       "    <tr>\n",
       "      <th>2</th>\n",
       "      <td>0.586331</td>\n",
       "      <td>0.517986</td>\n",
       "      <td>0.492806</td>\n",
       "      <td>0.424460</td>\n",
       "    </tr>\n",
       "    <tr>\n",
       "      <th>3</th>\n",
       "      <td>0.705584</td>\n",
       "      <td>0.664975</td>\n",
       "      <td>0.649746</td>\n",
       "      <td>0.756345</td>\n",
       "    </tr>\n",
       "    <tr>\n",
       "      <th>4</th>\n",
       "      <td>0.654930</td>\n",
       "      <td>0.654930</td>\n",
       "      <td>0.658451</td>\n",
       "      <td>0.433099</td>\n",
       "    </tr>\n",
       "  </tbody>\n",
       "</table>\n",
       "</div>"
      ],
      "text/plain": [
       "     coxnet        rf        gb     fksvm\n",
       "0  0.564935  0.470779  0.542208  0.500000\n",
       "1  0.706704  0.583799  0.544693  0.660615\n",
       "2  0.586331  0.517986  0.492806  0.424460\n",
       "3  0.705584  0.664975  0.649746  0.756345\n",
       "4  0.654930  0.654930  0.658451  0.433099"
      ]
     },
     "execution_count": 6,
     "metadata": {},
     "output_type": "execute_result"
    }
   ],
   "source": [
    "results['rfe_rfc']"
   ]
  },
  {
   "cell_type": "code",
   "execution_count": 7,
   "metadata": {},
   "outputs": [
    {
     "data": {
      "text/html": [
       "<div>\n",
       "<style scoped>\n",
       "    .dataframe tbody tr th:only-of-type {\n",
       "        vertical-align: middle;\n",
       "    }\n",
       "\n",
       "    .dataframe tbody tr th {\n",
       "        vertical-align: top;\n",
       "    }\n",
       "\n",
       "    .dataframe thead th {\n",
       "        text-align: right;\n",
       "    }\n",
       "</style>\n",
       "<table border=\"1\" class=\"dataframe\">\n",
       "  <thead>\n",
       "    <tr style=\"text-align: right;\">\n",
       "      <th></th>\n",
       "      <th>coxnet</th>\n",
       "      <th>rf</th>\n",
       "      <th>gb</th>\n",
       "      <th>fksvm</th>\n",
       "    </tr>\n",
       "  </thead>\n",
       "  <tbody>\n",
       "    <tr>\n",
       "      <th>count</th>\n",
       "      <td>5.000000</td>\n",
       "      <td>5.000000</td>\n",
       "      <td>5.000000</td>\n",
       "      <td>5.000000</td>\n",
       "    </tr>\n",
       "    <tr>\n",
       "      <th>mean</th>\n",
       "      <td>0.643697</td>\n",
       "      <td>0.578494</td>\n",
       "      <td>0.577581</td>\n",
       "      <td>0.554904</td>\n",
       "    </tr>\n",
       "    <tr>\n",
       "      <th>std</th>\n",
       "      <td>0.065993</td>\n",
       "      <td>0.084577</td>\n",
       "      <td>0.072917</td>\n",
       "      <td>0.147156</td>\n",
       "    </tr>\n",
       "    <tr>\n",
       "      <th>min</th>\n",
       "      <td>0.564935</td>\n",
       "      <td>0.470779</td>\n",
       "      <td>0.492806</td>\n",
       "      <td>0.424460</td>\n",
       "    </tr>\n",
       "    <tr>\n",
       "      <th>25%</th>\n",
       "      <td>0.586331</td>\n",
       "      <td>0.517986</td>\n",
       "      <td>0.542208</td>\n",
       "      <td>0.433099</td>\n",
       "    </tr>\n",
       "    <tr>\n",
       "      <th>50%</th>\n",
       "      <td>0.654930</td>\n",
       "      <td>0.583799</td>\n",
       "      <td>0.544693</td>\n",
       "      <td>0.500000</td>\n",
       "    </tr>\n",
       "    <tr>\n",
       "      <th>75%</th>\n",
       "      <td>0.705584</td>\n",
       "      <td>0.654930</td>\n",
       "      <td>0.649746</td>\n",
       "      <td>0.660615</td>\n",
       "    </tr>\n",
       "    <tr>\n",
       "      <th>max</th>\n",
       "      <td>0.706704</td>\n",
       "      <td>0.664975</td>\n",
       "      <td>0.658451</td>\n",
       "      <td>0.756345</td>\n",
       "    </tr>\n",
       "  </tbody>\n",
       "</table>\n",
       "</div>"
      ],
      "text/plain": [
       "         coxnet        rf        gb     fksvm\n",
       "count  5.000000  5.000000  5.000000  5.000000\n",
       "mean   0.643697  0.578494  0.577581  0.554904\n",
       "std    0.065993  0.084577  0.072917  0.147156\n",
       "min    0.564935  0.470779  0.492806  0.424460\n",
       "25%    0.586331  0.517986  0.542208  0.433099\n",
       "50%    0.654930  0.583799  0.544693  0.500000\n",
       "75%    0.705584  0.654930  0.649746  0.660615\n",
       "max    0.706704  0.664975  0.658451  0.756345"
      ]
     },
     "execution_count": 7,
     "metadata": {},
     "output_type": "execute_result"
    }
   ],
   "source": [
    "results['rfe_rfc'].describe()"
   ]
  },
  {
   "attachments": {},
   "cell_type": "markdown",
   "metadata": {},
   "source": [
    "而且可以看到此特徵組對 cox elastic net 模型準確度最高"
   ]
  },
  {
   "cell_type": "code",
   "execution_count": 15,
   "metadata": {},
   "outputs": [],
   "source": [
    "feature_sets = [\n",
    "    ['pvalue'],\n",
    "    ['corr'],\n",
    "    ['rf'],\n",
    "    ['rfe_lsvc'],\n",
    "    ['rfe_rfc'],\n",
    "    ['rfe_xgb'],\n",
    "    ['pvalue', 'corr'],\n",
    "    ['pvalue', 'rf'],\n",
    "    ['pvalue', 'rfe_lsvc'],\n",
    "    ['pvalue', 'rfe_rfc'],\n",
    "    ['pvalue', 'rfe_xgb'],\n",
    "    ['corr', 'rf'],\n",
    "    ['corr', 'rfe_lsvc'],\n",
    "    ['corr', 'rfe_rfc'],\n",
    "    ['corr', 'rfe_xgb'],\n",
    "    ['rf', 'rfe_lsvc'],\n",
    "    ['rf', 'rfe_rfc'],\n",
    "    ['rf', 'rfe_xgb'],\n",
    "    ['rfe_lsvc', 'rfe_rfc'],\n",
    "    ['rfe_lsvc', 'rfe_xgb'],\n",
    "    ['rfe_rfc', 'rfe_xgb'],\n",
    "    ['rfe_lsvc', 'rfe_rfc', 'rfe_xgb'],\n",
    "    ['rf', 'rfe_lsvc', 'rfe_rfc', 'rfe_xgb'],\n",
    "    ['corr', 'rfe_lsvc', 'rfe_rfc', 'rfe_xgb'],\n",
    "]"
   ]
  },
  {
   "cell_type": "code",
   "execution_count": 16,
   "metadata": {},
   "outputs": [],
   "source": [
    "feature_intersections = list()\n",
    "for f_set in feature_sets:\n",
    "    intersection = set(features[f_set[0]])\n",
    "\n",
    "    for idx in range(1, len(f_set)):\n",
    "        intersection = intersection & set(features[f_set[idx]])\n",
    "\n",
    "    feature_intersections.append(intersection)"
   ]
  },
  {
   "cell_type": "code",
   "execution_count": 17,
   "metadata": {},
   "outputs": [
    {
     "name": "stdout",
     "output_type": "stream",
     "text": [
      "['pvalue']: 5470\n",
      "--------\n",
      "['corr']: 4063\n",
      "--------\n",
      "['rf']: 2001\n",
      "--------\n",
      "['rfe_lsvc']: 644\n",
      "--------\n",
      "['rfe_rfc']: 500\n",
      "--------\n",
      "['rfe_xgb']: 500\n",
      "--------\n",
      "['pvalue', 'corr']: 2884\n",
      "--------\n",
      "['pvalue', 'rf']: 646\n",
      "--------\n",
      "['pvalue', 'rfe_lsvc']: 433\n",
      "--------\n",
      "['pvalue', 'rfe_rfc']: 192\n",
      "--------\n",
      "['pvalue', 'rfe_xgb']: 170\n",
      "--------\n",
      "['corr', 'rf']: 422\n",
      "--------\n",
      "['corr', 'rfe_lsvc']: 501\n",
      "--------\n",
      "['corr', 'rfe_rfc']: 154\n",
      "--------\n",
      "['corr', 'rfe_xgb']: 129\n",
      "--------\n",
      "['rf', 'rfe_lsvc']: 99\n",
      "--------\n",
      "['rf', 'rfe_rfc']: 74\n",
      "--------\n",
      "['rf', 'rfe_xgb']: 75\n",
      "--------\n",
      "['rfe_lsvc', 'rfe_rfc']: 28\n",
      "--------\n",
      "['rfe_lsvc', 'rfe_xgb']: 25\n",
      "--------\n",
      "['rfe_rfc', 'rfe_xgb']: 157\n",
      "--------\n",
      "['rfe_lsvc', 'rfe_rfc', 'rfe_xgb']: 10\n",
      "--------\n",
      "['rf', 'rfe_lsvc', 'rfe_rfc', 'rfe_xgb']: 4\n",
      "--------\n",
      "['corr', 'rfe_lsvc', 'rfe_rfc', 'rfe_xgb']: 9\n",
      "--------\n"
     ]
    }
   ],
   "source": [
    "for idx, intersection in enumerate(feature_intersections):\n",
    "    print(f\"{feature_sets[idx]}: {len(intersection)}\")\n",
    "    print(\"-\"*8)"
   ]
  },
  {
   "cell_type": "code",
   "execution_count": null,
   "metadata": {},
   "outputs": [],
   "source": []
  }
 ],
 "metadata": {
  "kernelspec": {
   "display_name": "env",
   "language": "python",
   "name": "python3"
  },
  "language_info": {
   "codemirror_mode": {
    "name": "ipython",
    "version": 3
   },
   "file_extension": ".py",
   "mimetype": "text/x-python",
   "name": "python",
   "nbconvert_exporter": "python",
   "pygments_lexer": "ipython3",
   "version": "3.10.8"
  },
  "orig_nbformat": 4,
  "vscode": {
   "interpreter": {
    "hash": "8eb34f3bd954f485bd6d30164ade5b375cd6df28509bc396b0fefa3a204e699b"
   }
  }
 },
 "nbformat": 4,
 "nbformat_minor": 2
}
