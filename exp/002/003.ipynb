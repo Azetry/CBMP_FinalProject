{
 "cells": [
  {
   "attachments": {},
   "cell_type": "markdown",
   "metadata": {},
   "source": [
    "Preliminary Evaluation: all features\n",
    "- results/002-003-all_features_cx_cindex.csv"
   ]
  },
  {
   "cell_type": "code",
   "execution_count": 35,
   "metadata": {},
   "outputs": [],
   "source": [
    "import pandas as pd\n",
    "import numpy as np\n",
    "from sklearn.svm import SVC\n",
    "from sksurv.ensemble import RandomSurvivalForest, GradientBoostingSurvivalAnalysis\n",
    "from sksurv.svm import FastKernelSurvivalSVM\n",
    "from sksurv.linear_model import CoxPHSurvivalAnalysis\n",
    "from sksurv.linear_model import CoxnetSurvivalAnalysis\n",
    "from sklearn.pipeline import  make_pipeline\n",
    "from sksurv.metrics import concordance_index_censored,concordance_index_ipcw\n",
    "from sklearn.preprocessing import StandardScaler\n",
    "from sklearn.model_selection import cross_validate, cross_val_score\n",
    "import joblib"
   ]
  },
  {
   "cell_type": "code",
   "execution_count": 36,
   "metadata": {},
   "outputs": [],
   "source": [
    "training_df = pd.read_csv(\"../../data/train_test/training.csv\")"
   ]
  },
  {
   "cell_type": "code",
   "execution_count": 37,
   "metadata": {},
   "outputs": [],
   "source": [
    "X_train = training_df.drop(columns=['survival_status', 'survival_time', 'recurrence', 'metastasis'])\n",
    "y_train_struct = training_df[['survival_status', 'survival_time']].to_records(index=False).astype([('Status', 'bool'), ('Survival', 'float64')])"
   ]
  },
  {
   "cell_type": "code",
   "execution_count": 38,
   "metadata": {},
   "outputs": [],
   "source": [
    "def c_index(clf, X, y_struct):\n",
    "    return concordance_index_censored(y_struct['Status'],y_struct['Survival'],clf.predict(X))[0]"
   ]
  },
  {
   "cell_type": "code",
   "execution_count": 39,
   "metadata": {},
   "outputs": [],
   "source": [
    "pipelines = {\n",
    "    'coxnet': make_pipeline(StandardScaler(), CoxnetSurvivalAnalysis()),\n",
    "    'rf': make_pipeline(StandardScaler(), RandomSurvivalForest()),\n",
    "    'gb': make_pipeline(StandardScaler(), GradientBoostingSurvivalAnalysis()),\n",
    "    'fksvm': make_pipeline(StandardScaler(), FastKernelSurvivalSVM())\n",
    "}"
   ]
  },
  {
   "cell_type": "code",
   "execution_count": 40,
   "metadata": {},
   "outputs": [
    {
     "name": "stdout",
     "output_type": "stream",
     "text": [
      "coxnet: Cross validation...\n",
      "Score:[0.50974026 0.62290503 0.58992806 0.61928934 0.57042254]\n",
      "Done.\n",
      "========\n",
      "rf: Cross validation...\n",
      "Score:[0.62012987 0.59217877 0.4028777  0.56345178 0.45774648]\n",
      "Done.\n",
      "========\n",
      "gb: Cross validation...\n",
      "Score:[0.54545455 0.55027933 0.5        0.46700508 0.38732394]\n",
      "Done.\n",
      "========\n",
      "fksvm: Cross validation...\n"
     ]
    },
    {
     "name": "stderr",
     "output_type": "stream",
     "text": [
      "/home/azetry/Projects/CBMP_FinalProject/env/lib/python3.10/site-packages/sklearn/pipeline.py:382: ConvergenceWarning: Optimization did not converge: Warning: Maximum number of iterations has been exceeded.\n",
      "  self._final_estimator.fit(Xt, y, **fit_params_last_step)\n",
      "/home/azetry/Projects/CBMP_FinalProject/env/lib/python3.10/site-packages/sklearn/pipeline.py:382: ConvergenceWarning: Optimization did not converge: Warning: Maximum number of iterations has been exceeded.\n",
      "  self._final_estimator.fit(Xt, y, **fit_params_last_step)\n"
     ]
    },
    {
     "name": "stdout",
     "output_type": "stream",
     "text": [
      "Score:[0.52597403 0.57122905 0.34892086 0.70558376 0.6056338 ]\n",
      "Done.\n",
      "========\n"
     ]
    }
   ],
   "source": [
    "scores = dict()\n",
    "\n",
    "for model, pipeline in pipelines.items():\n",
    "    print(f\"{model}: Cross validation...\")\n",
    "    score = cross_val_score(pipeline, X_train, y_train_struct, cv=5, scoring=c_index)\n",
    "    scores[model] = score\n",
    "    print(f\"Score:{score}\")\n",
    "    print(\"Done.\")\n",
    "    print(\"=\"*8)"
   ]
  },
  {
   "cell_type": "code",
   "execution_count": 41,
   "metadata": {},
   "outputs": [],
   "source": [
    "pd.DataFrame(scores, columns=scores.keys()).to_csv(\"../../data/results/002-003-all_features_cx_cindex.csv\", index=False)"
   ]
  },
  {
   "cell_type": "code",
   "execution_count": 42,
   "metadata": {},
   "outputs": [
    {
     "data": {
      "text/plain": [
       "['../../data/pipelines/002-003-basic-pipelines.pl']"
      ]
     },
     "execution_count": 42,
     "metadata": {},
     "output_type": "execute_result"
    }
   ],
   "source": [
    "joblib.dump(pipelines, \"../../data/pipelines/002-003-basic-pipelines.pl\")"
   ]
  },
  {
   "cell_type": "code",
   "execution_count": null,
   "metadata": {},
   "outputs": [],
   "source": []
  }
 ],
 "metadata": {
  "kernelspec": {
   "display_name": "env",
   "language": "python",
   "name": "python3"
  },
  "language_info": {
   "codemirror_mode": {
    "name": "ipython",
    "version": 3
   },
   "file_extension": ".py",
   "mimetype": "text/x-python",
   "name": "python",
   "nbconvert_exporter": "python",
   "pygments_lexer": "ipython3",
   "version": "3.10.8"
  },
  "orig_nbformat": 4,
  "vscode": {
   "interpreter": {
    "hash": "8eb34f3bd954f485bd6d30164ade5b375cd6df28509bc396b0fefa3a204e699b"
   }
  }
 },
 "nbformat": 4,
 "nbformat_minor": 2
}
