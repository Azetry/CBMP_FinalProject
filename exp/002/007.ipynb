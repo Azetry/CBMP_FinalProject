{
 "cells": [
  {
   "attachments": {},
   "cell_type": "markdown",
   "metadata": {},
   "source": [
    "rfe features (by recurrence)"
   ]
  },
  {
   "cell_type": "code",
   "execution_count": 1,
   "metadata": {},
   "outputs": [],
   "source": [
    "import pandas as pd\n",
    "import numpy as np\n",
    "from sklearn.svm import SVC\n",
    "from sksurv.ensemble import RandomSurvivalForest, GradientBoostingSurvivalAnalysis\n",
    "from sksurv.metrics import concordance_index_censored,concordance_index_ipcw\n",
    "from sklearn.model_selection import cross_validate, cross_val_score\n",
    "import joblib"
   ]
  },
  {
   "cell_type": "code",
   "execution_count": 4,
   "metadata": {},
   "outputs": [],
   "source": [
    "def c_index(clf, X, y_struct):\n",
    "    return concordance_index_censored(y_struct['Status'],y_struct['Survival'],clf.predict(X))[0]\n",
    "\n",
    "\n",
    "def cx_pipelines(pipelines, X, y_struct, cv=5, scoring=c_index):\n",
    "    scores = dict()\n",
    "\n",
    "    for model, pipeline in pipelines.items():\n",
    "        print(f\"{model}: Cross validation...\")\n",
    "        score = cross_val_score(pipeline, X, y_struct, cv=cv, scoring=scoring)\n",
    "        scores[model] = score\n",
    "        print(f\"Score:{score}\")\n",
    "        print(\"Done.\")\n",
    "        print(\"=\"*8)\n",
    "\n",
    "    return scores"
   ]
  },
  {
   "cell_type": "code",
   "execution_count": 5,
   "metadata": {},
   "outputs": [],
   "source": [
    "training_df = pd.read_csv(\"../../data/train_test/training.csv\")\n",
    "X_train = training_df.drop(columns=['survival_status', 'survival_time', 'recurrence', 'metastasis'])\n",
    "y_train_struct = training_df[['survival_status', 'survival_time']].to_records(index=False).astype([('Status', 'bool'), ('Survival', 'float64')])"
   ]
  },
  {
   "cell_type": "code",
   "execution_count": 6,
   "metadata": {},
   "outputs": [],
   "source": [
    "pipelines = joblib.load(\"../../data/pipelines/002-003-basic-pipelines.pl\")"
   ]
  },
  {
   "cell_type": "code",
   "execution_count": 8,
   "metadata": {},
   "outputs": [],
   "source": [
    "exps = {\n",
    "    'rfe_lsvc': list(pd.read_csv(\"../../data/selected_features/000-features_rfe_lsvc.csv\")),\n",
    "    'rfe_rfc': list(pd.read_csv(\"../../data/selected_features/000-features_rfe_rfc.csv\")),\n",
    "    'rfe_xgb': list(pd.read_csv(\"../../data/selected_features/000-features_rfe_xgb.csv\")),\n",
    "}"
   ]
  },
  {
   "cell_type": "code",
   "execution_count": 9,
   "metadata": {},
   "outputs": [],
   "source": [
    "scores = dict()"
   ]
  },
  {
   "cell_type": "code",
   "execution_count": 10,
   "metadata": {},
   "outputs": [
    {
     "name": "stdout",
     "output_type": "stream",
     "text": [
      "Exp: rfe_lsvc\n",
      "coxnet: Cross validation...\n",
      "Score:[0.50649351 0.52793296 0.47841727 0.70050761 0.49295775]\n",
      "Done.\n",
      "========\n",
      "rf: Cross validation...\n",
      "Score:[0.46753247 0.61731844 0.57913669 0.69035533 0.53169014]\n",
      "Done.\n",
      "========\n",
      "gb: Cross validation...\n",
      "Score:[0.51623377 0.5698324  0.49640288 0.60406091 0.58802817]\n",
      "Done.\n",
      "========\n",
      "fksvm: Cross validation...\n"
     ]
    },
    {
     "name": "stderr",
     "output_type": "stream",
     "text": [
      "/home/azetry/Projects/CBMP_FinalProject/env/lib/python3.10/site-packages/sklearn/pipeline.py:382: ConvergenceWarning: Optimization did not converge: Warning: Maximum number of iterations has been exceeded.\n",
      "  self._final_estimator.fit(Xt, y, **fit_params_last_step)\n",
      "/home/azetry/Projects/CBMP_FinalProject/env/lib/python3.10/site-packages/sklearn/pipeline.py:382: ConvergenceWarning: Optimization did not converge: Warning: Maximum number of iterations has been exceeded.\n",
      "  self._final_estimator.fit(Xt, y, **fit_params_last_step)\n",
      "/home/azetry/Projects/CBMP_FinalProject/env/lib/python3.10/site-packages/sklearn/pipeline.py:382: ConvergenceWarning: Optimization did not converge: Warning: Maximum number of iterations has been exceeded.\n",
      "  self._final_estimator.fit(Xt, y, **fit_params_last_step)\n"
     ]
    },
    {
     "name": "stdout",
     "output_type": "stream",
     "text": [
      "Score:[0.51623377 0.62290503 0.48201439 0.59898477 0.43661972]\n",
      "Done.\n",
      "========\n",
      "============\n",
      "Exp: rfe_rfc\n",
      "coxnet: Cross validation...\n",
      "Score:[0.56493506 0.70670391 0.58633094 0.70558376 0.65492958]\n",
      "Done.\n",
      "========\n",
      "rf: Cross validation...\n",
      "Score:[0.47077922 0.58379888 0.51798561 0.66497462 0.65492958]\n",
      "Done.\n",
      "========\n",
      "gb: Cross validation...\n",
      "Score:[0.54220779 0.54469274 0.49280576 0.64974619 0.6584507 ]\n",
      "Done.\n",
      "========\n",
      "fksvm: Cross validation...\n"
     ]
    },
    {
     "name": "stderr",
     "output_type": "stream",
     "text": [
      "/home/azetry/Projects/CBMP_FinalProject/env/lib/python3.10/site-packages/sklearn/pipeline.py:382: ConvergenceWarning: Optimization did not converge: Warning: Maximum number of iterations has been exceeded.\n",
      "  self._final_estimator.fit(Xt, y, **fit_params_last_step)\n",
      "/home/azetry/Projects/CBMP_FinalProject/env/lib/python3.10/site-packages/sklearn/pipeline.py:382: ConvergenceWarning: Optimization did not converge: Warning: Maximum number of iterations has been exceeded.\n",
      "  self._final_estimator.fit(Xt, y, **fit_params_last_step)\n",
      "/home/azetry/Projects/CBMP_FinalProject/env/lib/python3.10/site-packages/sklearn/pipeline.py:382: ConvergenceWarning: Optimization did not converge: Warning: Maximum number of iterations has been exceeded.\n",
      "  self._final_estimator.fit(Xt, y, **fit_params_last_step)\n"
     ]
    },
    {
     "name": "stdout",
     "output_type": "stream",
     "text": [
      "Score:[0.5        0.66061453 0.42446043 0.75634518 0.43309859]\n",
      "Done.\n",
      "========\n",
      "============\n",
      "Exp: rfe_xgb\n",
      "coxnet: Cross validation...\n",
      "Score:[0.46103896 0.55027933 0.4028777  0.59898477 0.5       ]\n",
      "Done.\n",
      "========\n",
      "rf: Cross validation...\n",
      "Score:[0.60714286 0.55307263 0.47122302 0.60406091 0.51056338]\n",
      "Done.\n",
      "========\n",
      "gb: Cross validation...\n",
      "Score:[0.34415584 0.60614525 0.52877698 0.74619289 0.42957746]\n",
      "Done.\n",
      "========\n",
      "fksvm: Cross validation...\n",
      "Score:[0.3961039  0.54608939 0.25179856 0.54314721 0.5       ]\n",
      "Done.\n",
      "========\n",
      "============\n"
     ]
    },
    {
     "name": "stderr",
     "output_type": "stream",
     "text": [
      "/home/azetry/Projects/CBMP_FinalProject/env/lib/python3.10/site-packages/sklearn/pipeline.py:382: ConvergenceWarning: Optimization did not converge: Warning: Maximum number of iterations has been exceeded.\n",
      "  self._final_estimator.fit(Xt, y, **fit_params_last_step)\n"
     ]
    }
   ],
   "source": [
    "for exp, features in exps.items():\n",
    "    print(f\"Exp: {exp}\")\n",
    "    X_train_Selected = X_train[features]\n",
    "    score = cx_pipelines(pipelines, X_train_Selected, y_train_struct)\n",
    "    scores[exp] = score\n",
    "    pd.DataFrame(score, columns=score.keys()).to_csv(f\"../../data/results/002-007-{exp}_features_cx_cindex.csv\", index=False)\n",
    "    print(\"=\"*12)"
   ]
  },
  {
   "cell_type": "code",
   "execution_count": null,
   "metadata": {},
   "outputs": [],
   "source": []
  }
 ],
 "metadata": {
  "kernelspec": {
   "display_name": "env",
   "language": "python",
   "name": "python3"
  },
  "language_info": {
   "codemirror_mode": {
    "name": "ipython",
    "version": 3
   },
   "file_extension": ".py",
   "mimetype": "text/x-python",
   "name": "python",
   "nbconvert_exporter": "python",
   "pygments_lexer": "ipython3",
   "version": "3.10.8"
  },
  "orig_nbformat": 4,
  "vscode": {
   "interpreter": {
    "hash": "8eb34f3bd954f485bd6d30164ade5b375cd6df28509bc396b0fefa3a204e699b"
   }
  }
 },
 "nbformat": 4,
 "nbformat_minor": 2
}
