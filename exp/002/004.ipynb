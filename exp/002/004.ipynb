{
 "cells": [
  {
   "cell_type": "code",
   "execution_count": 16,
   "metadata": {},
   "outputs": [],
   "source": [
    "import pandas as pd\n",
    "import numpy as np\n",
    "from sklearn.svm import SVC\n",
    "from sksurv.ensemble import RandomSurvivalForest, GradientBoostingSurvivalAnalysis\n",
    "from sksurv.metrics import concordance_index_censored,concordance_index_ipcw\n",
    "from sklearn.model_selection import cross_validate, cross_val_score\n",
    "import joblib"
   ]
  },
  {
   "cell_type": "code",
   "execution_count": 17,
   "metadata": {},
   "outputs": [],
   "source": [
    "def c_index(clf, X, y_struct):\n",
    "    return concordance_index_censored(y_struct['Status'],y_struct['Survival'],clf.predict(X))[0]"
   ]
  },
  {
   "cell_type": "code",
   "execution_count": 18,
   "metadata": {},
   "outputs": [],
   "source": [
    "def cx_pipelines(pipelines, X, y_struct, cv=5, scoring=c_index):\n",
    "    scores = dict()\n",
    "\n",
    "    for model, pipeline in pipelines.items():\n",
    "        print(f\"{model}: Cross validation...\")\n",
    "        score = cross_val_score(pipeline, X, y_struct, cv=cv, scoring=scoring)\n",
    "        scores[model] = score\n",
    "        print(f\"Score:{score}\")\n",
    "        print(\"Done.\")\n",
    "        print(\"=\"*8)\n",
    "\n",
    "    return scores"
   ]
  },
  {
   "cell_type": "code",
   "execution_count": 19,
   "metadata": {},
   "outputs": [],
   "source": [
    "training_df = pd.read_csv(\"../../data/train_test/training.csv\")\n",
    "X_train = training_df.drop(columns=['survival_status', 'survival_time', 'recurrence', 'metastasis'])\n",
    "y_train_struct = training_df[['survival_status', 'survival_time']].to_records(index=False).astype([('Status', 'bool'), ('Survival', 'float64')])"
   ]
  },
  {
   "cell_type": "code",
   "execution_count": 20,
   "metadata": {},
   "outputs": [],
   "source": [
    "pipelines = joblib.load(\"../../data/pipelines/002-003-basic-pipelines.pl\")"
   ]
  },
  {
   "attachments": {},
   "cell_type": "markdown",
   "metadata": {},
   "source": [
    "p-value"
   ]
  },
  {
   "cell_type": "code",
   "execution_count": 21,
   "metadata": {},
   "outputs": [
    {
     "data": {
      "text/plain": [
       "5470"
      ]
     },
     "execution_count": 21,
     "metadata": {},
     "output_type": "execute_result"
    }
   ],
   "source": [
    "features = list(pd.read_csv(\"../../data/selected_features/p-value-recur-related-train.csv\").columns)\n",
    "len(features)"
   ]
  },
  {
   "cell_type": "code",
   "execution_count": 22,
   "metadata": {},
   "outputs": [],
   "source": [
    "X_train_Selected = X_train[features]"
   ]
  },
  {
   "cell_type": "code",
   "execution_count": 23,
   "metadata": {},
   "outputs": [
    {
     "name": "stdout",
     "output_type": "stream",
     "text": [
      "coxnet: Cross validation...\n",
      "Score:[0.57467532 0.60335196 0.43884892 0.81725888 0.58450704]\n",
      "Done.\n",
      "========\n",
      "rf: Cross validation...\n",
      "Score:[0.52597403 0.56703911 0.58633094 0.56345178 0.41901408]\n",
      "Done.\n",
      "========\n",
      "gb: Cross validation...\n",
      "Score:[0.55844156 0.61731844 0.44604317 0.56852792 0.49295775]\n",
      "Done.\n",
      "========\n",
      "fksvm: Cross validation...\n"
     ]
    },
    {
     "name": "stderr",
     "output_type": "stream",
     "text": [
      "/home/azetry/Projects/CBMP_FinalProject/env/lib/python3.10/site-packages/sklearn/pipeline.py:382: ConvergenceWarning: Optimization did not converge: Warning: Maximum number of iterations has been exceeded.\n",
      "  self._final_estimator.fit(Xt, y, **fit_params_last_step)\n",
      "/home/azetry/Projects/CBMP_FinalProject/env/lib/python3.10/site-packages/sklearn/pipeline.py:382: ConvergenceWarning: Optimization did not converge: Warning: Maximum number of iterations has been exceeded.\n",
      "  self._final_estimator.fit(Xt, y, **fit_params_last_step)\n",
      "/home/azetry/Projects/CBMP_FinalProject/env/lib/python3.10/site-packages/sklearn/pipeline.py:382: ConvergenceWarning: Optimization did not converge: Warning: Maximum number of iterations has been exceeded.\n",
      "  self._final_estimator.fit(Xt, y, **fit_params_last_step)\n"
     ]
    },
    {
     "name": "stdout",
     "output_type": "stream",
     "text": [
      "Score:[0.54545455 0.59078212 0.3794964  0.73604061 0.45422535]\n",
      "Done.\n",
      "========\n"
     ]
    },
    {
     "name": "stderr",
     "output_type": "stream",
     "text": [
      "/home/azetry/Projects/CBMP_FinalProject/env/lib/python3.10/site-packages/sklearn/pipeline.py:382: ConvergenceWarning: Optimization did not converge: Warning: Maximum number of iterations has been exceeded.\n",
      "  self._final_estimator.fit(Xt, y, **fit_params_last_step)\n"
     ]
    }
   ],
   "source": [
    "scores = dict()\n",
    "\n",
    "for model, pipeline in pipelines.items():\n",
    "    print(f\"{model}: Cross validation...\")\n",
    "    score = cross_val_score(pipeline, X_train_Selected, y_train_struct, cv=5, scoring=c_index)\n",
    "    scores[model] = score\n",
    "    print(f\"Score:{score}\")\n",
    "    print(\"Done.\")\n",
    "    print(\"=\"*8)"
   ]
  },
  {
   "cell_type": "code",
   "execution_count": 24,
   "metadata": {},
   "outputs": [],
   "source": [
    "pd.DataFrame(scores, columns=scores.keys()).to_csv(\"../../data/results/002-004-pvalue_features_cx_cindex.csv\", index=False)"
   ]
  },
  {
   "attachments": {},
   "cell_type": "markdown",
   "metadata": {},
   "source": [
    "correlation"
   ]
  },
  {
   "cell_type": "code",
   "execution_count": 25,
   "metadata": {},
   "outputs": [
    {
     "data": {
      "text/plain": [
       "4063"
      ]
     },
     "execution_count": 25,
     "metadata": {},
     "output_type": "execute_result"
    }
   ],
   "source": [
    "features = list(pd.read_csv(\"../../data/selected_features/corr-recur-related-train.csv\").columns)\n",
    "X_train_Selected = X_train[features]\n",
    "len(features)"
   ]
  },
  {
   "cell_type": "code",
   "execution_count": 26,
   "metadata": {},
   "outputs": [
    {
     "name": "stdout",
     "output_type": "stream",
     "text": [
      "coxnet: Cross validation...\n",
      "Score:[0.54545455 0.56424581 0.59352518 0.59898477 0.51056338]\n",
      "Done.\n",
      "========\n",
      "rf: Cross validation...\n",
      "Score:[0.52597403 0.54748603 0.58992806 0.65989848 0.5       ]\n",
      "Done.\n",
      "========\n",
      "gb: Cross validation...\n",
      "Score:[0.50324675 0.5726257  0.61510791 0.50253807 0.40492958]\n",
      "Done.\n",
      "========\n",
      "fksvm: Cross validation...\n"
     ]
    },
    {
     "name": "stderr",
     "output_type": "stream",
     "text": [
      "/home/azetry/Projects/CBMP_FinalProject/env/lib/python3.10/site-packages/sklearn/pipeline.py:382: ConvergenceWarning: Optimization did not converge: Warning: Maximum number of iterations has been exceeded.\n",
      "  self._final_estimator.fit(Xt, y, **fit_params_last_step)\n",
      "/home/azetry/Projects/CBMP_FinalProject/env/lib/python3.10/site-packages/sklearn/pipeline.py:382: ConvergenceWarning: Optimization did not converge: Warning: Maximum number of iterations has been exceeded.\n",
      "  self._final_estimator.fit(Xt, y, **fit_params_last_step)\n",
      "/home/azetry/Projects/CBMP_FinalProject/env/lib/python3.10/site-packages/sklearn/pipeline.py:382: ConvergenceWarning: Optimization did not converge: Warning: Maximum number of iterations has been exceeded.\n",
      "  self._final_estimator.fit(Xt, y, **fit_params_last_step)\n",
      "/home/azetry/Projects/CBMP_FinalProject/env/lib/python3.10/site-packages/sklearn/pipeline.py:382: ConvergenceWarning: Optimization did not converge: Warning: Maximum number of iterations has been exceeded.\n",
      "  self._final_estimator.fit(Xt, y, **fit_params_last_step)\n"
     ]
    },
    {
     "name": "stdout",
     "output_type": "stream",
     "text": [
      "Score:[0.56818182 0.61312849 0.58633094 0.72081218 0.48943662]\n",
      "Done.\n",
      "========\n"
     ]
    },
    {
     "name": "stderr",
     "output_type": "stream",
     "text": [
      "/home/azetry/Projects/CBMP_FinalProject/env/lib/python3.10/site-packages/sklearn/pipeline.py:382: ConvergenceWarning: Optimization did not converge: Warning: Maximum number of iterations has been exceeded.\n",
      "  self._final_estimator.fit(Xt, y, **fit_params_last_step)\n"
     ]
    }
   ],
   "source": [
    "corr_scores = cx_pipelines(pipelines, X_train_Selected, y_train_struct)\n",
    "pd.DataFrame(corr_scores, columns=corr_scores.keys()).to_csv(\"../../data/results/002-004-corr_features_cx_cindex.csv\", index=False)"
   ]
  },
  {
   "attachments": {},
   "cell_type": "markdown",
   "metadata": {},
   "source": [
    "select from rf"
   ]
  },
  {
   "cell_type": "code",
   "execution_count": 27,
   "metadata": {},
   "outputs": [
    {
     "data": {
      "text/plain": [
       "2001"
      ]
     },
     "execution_count": 27,
     "metadata": {},
     "output_type": "execute_result"
    }
   ],
   "source": [
    "features = list(pd.read_csv(\"../../data/selected_features/rf-recur-related-train.csv\").columns)\n",
    "X_train_Selected = X_train[features]\n",
    "len(features)"
   ]
  },
  {
   "cell_type": "code",
   "execution_count": 28,
   "metadata": {},
   "outputs": [
    {
     "name": "stdout",
     "output_type": "stream",
     "text": [
      "coxnet: Cross validation...\n",
      "Score:[0.49350649 0.58379888 0.5323741  0.71573604 0.54929577]\n",
      "Done.\n",
      "========\n",
      "rf: Cross validation...\n",
      "Score:[0.58441558 0.61452514 0.50719424 0.55837563 0.52112676]\n",
      "Done.\n",
      "========\n",
      "gb: Cross validation...\n",
      "Score:[0.60064935 0.60893855 0.58633094 0.56852792 0.51408451]\n",
      "Done.\n",
      "========\n",
      "fksvm: Cross validation...\n"
     ]
    },
    {
     "name": "stderr",
     "output_type": "stream",
     "text": [
      "/home/azetry/Projects/CBMP_FinalProject/env/lib/python3.10/site-packages/sklearn/pipeline.py:382: ConvergenceWarning: Optimization did not converge: Warning: Maximum number of iterations has been exceeded.\n",
      "  self._final_estimator.fit(Xt, y, **fit_params_last_step)\n",
      "/home/azetry/Projects/CBMP_FinalProject/env/lib/python3.10/site-packages/sklearn/pipeline.py:382: ConvergenceWarning: Optimization did not converge: Warning: Maximum number of iterations has been exceeded.\n",
      "  self._final_estimator.fit(Xt, y, **fit_params_last_step)\n"
     ]
    },
    {
     "name": "stdout",
     "output_type": "stream",
     "text": [
      "Score:[0.50324675 0.5726257  0.39568345 0.68527919 0.54577465]\n",
      "Done.\n",
      "========\n"
     ]
    }
   ],
   "source": [
    "rf_scores = cx_pipelines(pipelines, X_train_Selected, y_train_struct)\n",
    "pd.DataFrame(rf_scores, columns=rf_scores.keys()).to_csv(\"../../data/results/002-004-rf_features_cx_cindex.csv\", index=False)"
   ]
  },
  {
   "attachments": {},
   "cell_type": "markdown",
   "metadata": {},
   "source": [
    "pvalue+correlation"
   ]
  },
  {
   "cell_type": "code",
   "execution_count": 29,
   "metadata": {},
   "outputs": [
    {
     "data": {
      "text/plain": [
       "6649"
      ]
     },
     "execution_count": 29,
     "metadata": {},
     "output_type": "execute_result"
    }
   ],
   "source": [
    "features = list(pd.read_csv(\"../../data/selected_features/cor_p-recur-related-train.csv\").columns)\n",
    "X_train_Selected = X_train[features]\n",
    "len(features)"
   ]
  },
  {
   "cell_type": "code",
   "execution_count": 30,
   "metadata": {},
   "outputs": [
    {
     "name": "stdout",
     "output_type": "stream",
     "text": [
      "coxnet: Cross validation...\n",
      "Score:[0.52597403 0.61452514 0.48561151 0.6142132  0.54929577]\n",
      "Done.\n",
      "========\n",
      "rf: Cross validation...\n",
      "Score:[0.49025974 0.59776536 0.51798561 0.58375635 0.43309859]\n",
      "Done.\n",
      "========\n",
      "gb: Cross validation...\n",
      "Score:[0.47727273 0.55865922 0.39928058 0.45177665 0.49647887]\n",
      "Done.\n",
      "========\n",
      "fksvm: Cross validation...\n"
     ]
    },
    {
     "name": "stderr",
     "output_type": "stream",
     "text": [
      "/home/azetry/Projects/CBMP_FinalProject/env/lib/python3.10/site-packages/sklearn/pipeline.py:382: ConvergenceWarning: Optimization did not converge: Warning: Maximum number of iterations has been exceeded.\n",
      "  self._final_estimator.fit(Xt, y, **fit_params_last_step)\n",
      "/home/azetry/Projects/CBMP_FinalProject/env/lib/python3.10/site-packages/sklearn/pipeline.py:382: ConvergenceWarning: Optimization did not converge: Warning: Maximum number of iterations has been exceeded.\n",
      "  self._final_estimator.fit(Xt, y, **fit_params_last_step)\n",
      "/home/azetry/Projects/CBMP_FinalProject/env/lib/python3.10/site-packages/sklearn/pipeline.py:382: ConvergenceWarning: Optimization did not converge: Warning: Maximum number of iterations has been exceeded.\n",
      "  self._final_estimator.fit(Xt, y, **fit_params_last_step)\n",
      "/home/azetry/Projects/CBMP_FinalProject/env/lib/python3.10/site-packages/sklearn/pipeline.py:382: ConvergenceWarning: Optimization did not converge: Warning: Maximum number of iterations has been exceeded.\n",
      "  self._final_estimator.fit(Xt, y, **fit_params_last_step)\n"
     ]
    },
    {
     "name": "stdout",
     "output_type": "stream",
     "text": [
      "Score:[0.55519481 0.61592179 0.4028777  0.66497462 0.48943662]\n",
      "Done.\n",
      "========\n"
     ]
    },
    {
     "name": "stderr",
     "output_type": "stream",
     "text": [
      "/home/azetry/Projects/CBMP_FinalProject/env/lib/python3.10/site-packages/sklearn/pipeline.py:382: ConvergenceWarning: Optimization did not converge: Warning: Maximum number of iterations has been exceeded.\n",
      "  self._final_estimator.fit(Xt, y, **fit_params_last_step)\n"
     ]
    }
   ],
   "source": [
    "p_corr_scores = cx_pipelines(pipelines, X_train_Selected, y_train_struct)\n",
    "pd.DataFrame(p_corr_scores, columns=p_corr_scores.keys()).to_csv(\"../../data/results/002-004-p_corr_features_cx_cindex.csv\", index=False)"
   ]
  },
  {
   "cell_type": "code",
   "execution_count": null,
   "metadata": {},
   "outputs": [],
   "source": []
  }
 ],
 "metadata": {
  "kernelspec": {
   "display_name": "env",
   "language": "python",
   "name": "python3"
  },
  "language_info": {
   "codemirror_mode": {
    "name": "ipython",
    "version": 3
   },
   "file_extension": ".py",
   "mimetype": "text/x-python",
   "name": "python",
   "nbconvert_exporter": "python",
   "pygments_lexer": "ipython3",
   "version": "3.10.8"
  },
  "orig_nbformat": 4,
  "vscode": {
   "interpreter": {
    "hash": "8eb34f3bd954f485bd6d30164ade5b375cd6df28509bc396b0fefa3a204e699b"
   }
  }
 },
 "nbformat": 4,
 "nbformat_minor": 2
}
