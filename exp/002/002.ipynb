{
 "cells": [
  {
   "attachments": {},
   "cell_type": "markdown",
   "metadata": {},
   "source": [
    "make pipeline"
   ]
  },
  {
   "cell_type": "code",
   "execution_count": 7,
   "metadata": {},
   "outputs": [],
   "source": [
    "import pandas as pd\n",
    "import numpy as np\n",
    "import pandas as pd\n",
    "from sklearn.svm import SVC\n",
    "from sksurv.ensemble import RandomSurvivalForest, GradientBoostingSurvivalAnalysis\n",
    "from sksurv.svm import FastKernelSurvivalSVM\n",
    "from sksurv.linear_model import CoxPHSurvivalAnalysis\n",
    "from sksurv.linear_model import CoxnetSurvivalAnalysis\n",
    "from sklearn.pipeline import  make_pipeline\n",
    "from sksurv.metrics import concordance_index_censored,concordance_index_ipcw\n",
    "from sklearn.preprocessing import StandardScaler"
   ]
  },
  {
   "cell_type": "code",
   "execution_count": 3,
   "metadata": {},
   "outputs": [],
   "source": [
    "training_df = pd.read_csv(\"../../data/train_test/training.csv\")"
   ]
  },
  {
   "cell_type": "code",
   "execution_count": 4,
   "metadata": {},
   "outputs": [],
   "source": [
    "X_train = training_df.drop(columns=['survival_status', 'survival_time', 'recurrence', 'metastasis'])\n",
    "y_train_struct = training_df[['survival_status', 'survival_time']].to_records(index=False).astype([('Status', 'bool'), ('Survival', 'float64')])"
   ]
  },
  {
   "cell_type": "code",
   "execution_count": 8,
   "metadata": {},
   "outputs": [],
   "source": [
    "pipelines = {\n",
    "    'coxnet': make_pipeline(StandardScaler(), CoxnetSurvivalAnalysis()),\n",
    "    'rf': make_pipeline(StandardScaler(), RandomSurvivalForest()),\n",
    "    'gb': make_pipeline(StandardScaler(), GradientBoostingSurvivalAnalysis()),\n",
    "    'fksvm': make_pipeline(StandardScaler(), FastKernelSurvivalSVM())\n",
    "}\n"
   ]
  },
  {
   "cell_type": "code",
   "execution_count": 9,
   "metadata": {},
   "outputs": [
    {
     "name": "stdout",
     "output_type": "stream",
     "text": [
      "coxnet: Fitting...\n",
      "Done.\n",
      "========\n",
      "rf: Fitting...\n",
      "Done.\n",
      "========\n",
      "gb: Fitting...\n",
      "Done.\n",
      "========\n",
      "fksvm: Fitting...\n",
      "Done.\n",
      "========\n"
     ]
    },
    {
     "name": "stderr",
     "output_type": "stream",
     "text": [
      "/home/azetry/Projects/CBMP_FinalProject/env/lib/python3.10/site-packages/sklearn/pipeline.py:382: ConvergenceWarning: Optimization did not converge: Warning: Maximum number of iterations has been exceeded.\n",
      "  self._final_estimator.fit(Xt, y, **fit_params_last_step)\n"
     ]
    }
   ],
   "source": [
    "models = dict()\n",
    "\n",
    "for model, pipeline in pipelines.items():\n",
    "    print(f\"{model}: Fitting...\")\n",
    "    models[model] = pipeline.fit(X_train, y_train_struct)\n",
    "    print(\"Done.\")\n",
    "    print(\"=\"*8)"
   ]
  },
  {
   "cell_type": "code",
   "execution_count": 12,
   "metadata": {},
   "outputs": [
    {
     "name": "stdout",
     "output_type": "stream",
     "text": [
      "coxnet: c-index\n",
      "1.0\n",
      "rf: c-index\n",
      "0.9452279884978776\n",
      "gb: c-index\n",
      "0.9942489387922772\n",
      "fksvm: c-index\n",
      "0.9990414897987129\n"
     ]
    }
   ],
   "source": [
    "for name, model in models.items():\n",
    "    print(f\"{name}: c-index\")\n",
    "    print(concordance_index_censored(y_train_struct['Status'],y_train_struct['Survival'],model.predict(X_train))[0])"
   ]
  },
  {
   "cell_type": "code",
   "execution_count": null,
   "metadata": {},
   "outputs": [],
   "source": []
  }
 ],
 "metadata": {
  "kernelspec": {
   "display_name": "env",
   "language": "python",
   "name": "python3"
  },
  "language_info": {
   "codemirror_mode": {
    "name": "ipython",
    "version": 3
   },
   "file_extension": ".py",
   "mimetype": "text/x-python",
   "name": "python",
   "nbconvert_exporter": "python",
   "pygments_lexer": "ipython3",
   "version": "3.10.8"
  },
  "orig_nbformat": 4,
  "vscode": {
   "interpreter": {
    "hash": "8eb34f3bd954f485bd6d30164ade5b375cd6df28509bc396b0fefa3a204e699b"
   }
  }
 },
 "nbformat": 4,
 "nbformat_minor": 2
}
