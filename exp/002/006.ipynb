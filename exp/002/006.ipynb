{
 "cells": [
  {
   "attachments": {},
   "cell_type": "markdown",
   "metadata": {},
   "source": [
    "太多特徵跑不動 coxPH 即使有標準化"
   ]
  },
  {
   "cell_type": "code",
   "execution_count": 7,
   "metadata": {},
   "outputs": [],
   "source": [
    "import pandas as pd\n",
    "import numpy as np\n",
    "\n",
    "from sksurv.linear_model import CoxPHSurvivalAnalysis\n",
    "from sklearn.pipeline import  make_pipeline\n",
    "from sksurv.metrics import concordance_index_censored,concordance_index_ipcw\n",
    "from sklearn.preprocessing import StandardScaler\n",
    "from sklearn.model_selection import cross_validate, cross_val_score\n",
    "import joblib"
   ]
  },
  {
   "cell_type": "code",
   "execution_count": 4,
   "metadata": {},
   "outputs": [],
   "source": [
    "def c_index(clf, X, y_struct):\n",
    "    return concordance_index_censored(y_struct['Status'],y_struct['Survival'],clf.predict(X))[0]"
   ]
  },
  {
   "cell_type": "code",
   "execution_count": null,
   "metadata": {},
   "outputs": [],
   "source": [
    "def cx_pipelines(pipelines, X, y_struct, cv=5, scoring=c_index):\n",
    "    scores = dict()\n",
    "\n",
    "    for model, pipeline in pipelines.items():\n",
    "        print(f\"{model}: Cross validation...\")\n",
    "        score = cross_val_score(pipeline, X, y_struct, cv=cv, scoring=scoring)\n",
    "        scores[model] = score\n",
    "        print(f\"Score:{score}\")\n",
    "        print(\"Done.\")\n",
    "        print(\"=\"*8)\n",
    "\n",
    "    return scores"
   ]
  },
  {
   "cell_type": "code",
   "execution_count": 2,
   "metadata": {},
   "outputs": [],
   "source": [
    "training_df = pd.read_csv(\"../../data/train_test/training.csv\")"
   ]
  },
  {
   "cell_type": "code",
   "execution_count": 3,
   "metadata": {},
   "outputs": [],
   "source": [
    "X_train = training_df.drop(columns=['survival_status', 'survival_time', 'recurrence', 'metastasis'])\n",
    "y_train_struct = training_df[['survival_status', 'survival_time']].to_records(index=False).astype([('Status', 'bool'), ('Survival', 'float64')])"
   ]
  },
  {
   "cell_type": "code",
   "execution_count": 6,
   "metadata": {},
   "outputs": [],
   "source": [
    "exps = {\n",
    "    'pvalue': list(pd.read_csv(\"../../data/selected_features/p-value-recur-related-train.csv\").columns),\n",
    "    'corr': list(pd.read_csv(\"../../data/selected_features/corr-recur-related-train.csv\").columns),\n",
    "    'rf': list(pd.read_csv(\"../../data/selected_features/rf-recur-related-train.csv\").columns),\n",
    "    'p_corr': list(pd.read_csv(\"../../data/selected_features/cor_p-recur-related-train.csv\").columns),\n",
    "}"
   ]
  },
  {
   "cell_type": "code",
   "execution_count": 8,
   "metadata": {},
   "outputs": [],
   "source": [
    "cox_pipeline = make_pipeline(StandardScaler(), CoxPHSurvivalAnalysis())"
   ]
  },
  {
   "cell_type": "code",
   "execution_count": 10,
   "metadata": {},
   "outputs": [
    {
     "name": "stdout",
     "output_type": "stream",
     "text": [
      "Exp: pvalue\n"
     ]
    },
    {
     "name": "stderr",
     "output_type": "stream",
     "text": [
      "/home/azetry/Projects/CBMP_FinalProject/env/lib/python3.10/site-packages/sksurv/linear_model/coxph.py:445: LinAlgWarning: Ill-conditioned matrix (rcond=8.98659e-23): result may not be accurate.\n",
      "  delta = solve(optimizer.hessian, optimizer.gradient,\n",
      "/home/azetry/Projects/CBMP_FinalProject/env/lib/python3.10/site-packages/sksurv/linear_model/coxph.py:177: RuntimeWarning: overflow encountered in exp\n",
      "  risk_set += np.exp(xw[k])\n",
      "/home/azetry/Projects/CBMP_FinalProject/env/lib/python3.10/site-packages/sksurv/linear_model/coxph.py:198: RuntimeWarning: overflow encountered in exp\n",
      "  exp_xw = np.exp(offset + np.dot(x, w))\n",
      "/home/azetry/Projects/CBMP_FinalProject/env/lib/python3.10/site-packages/sksurv/linear_model/coxph.py:445: LinAlgWarning: Ill-conditioned matrix (rcond=5.57036e-23): result may not be accurate.\n",
      "  delta = solve(optimizer.hessian, optimizer.gradient,\n",
      "/home/azetry/Projects/CBMP_FinalProject/env/lib/python3.10/site-packages/sksurv/linear_model/coxph.py:445: LinAlgWarning: Ill-conditioned matrix (rcond=6.01675e-23): result may not be accurate.\n",
      "  delta = solve(optimizer.hessian, optimizer.gradient,\n",
      "/home/azetry/Projects/CBMP_FinalProject/env/lib/python3.10/site-packages/sksurv/linear_model/coxph.py:445: LinAlgWarning: Ill-conditioned matrix (rcond=3.45655e-23): result may not be accurate.\n",
      "  delta = solve(optimizer.hessian, optimizer.gradient,\n",
      "/home/azetry/Projects/CBMP_FinalProject/env/lib/python3.10/site-packages/sksurv/linear_model/coxph.py:445: LinAlgWarning: Ill-conditioned matrix (rcond=1.5681e-23): result may not be accurate.\n",
      "  delta = solve(optimizer.hessian, optimizer.gradient,\n",
      "/home/azetry/Projects/CBMP_FinalProject/env/lib/python3.10/site-packages/sksurv/linear_model/coxph.py:445: LinAlgWarning: Ill-conditioned matrix (rcond=2.02293e-23): result may not be accurate.\n",
      "  delta = solve(optimizer.hessian, optimizer.gradient,\n",
      "/home/azetry/Projects/CBMP_FinalProject/env/lib/python3.10/site-packages/sksurv/linear_model/coxph.py:445: LinAlgWarning: Ill-conditioned matrix (rcond=6.10622e-23): result may not be accurate.\n",
      "  delta = solve(optimizer.hessian, optimizer.gradient,\n",
      "/home/azetry/Projects/CBMP_FinalProject/env/lib/python3.10/site-packages/sksurv/linear_model/coxph.py:445: LinAlgWarning: Ill-conditioned matrix (rcond=2.27932e-23): result may not be accurate.\n",
      "  delta = solve(optimizer.hessian, optimizer.gradient,\n",
      "/home/azetry/Projects/CBMP_FinalProject/env/lib/python3.10/site-packages/sksurv/linear_model/coxph.py:445: LinAlgWarning: Ill-conditioned matrix (rcond=1.49716e-23): result may not be accurate.\n",
      "  delta = solve(optimizer.hessian, optimizer.gradient,\n",
      "/home/azetry/Projects/CBMP_FinalProject/env/lib/python3.10/site-packages/sksurv/linear_model/coxph.py:445: LinAlgWarning: Ill-conditioned matrix (rcond=7.45051e-23): result may not be accurate.\n",
      "  delta = solve(optimizer.hessian, optimizer.gradient,\n",
      "/home/azetry/Projects/CBMP_FinalProject/env/lib/python3.10/site-packages/sksurv/linear_model/coxph.py:445: LinAlgWarning: Ill-conditioned matrix (rcond=1.33399e-23): result may not be accurate.\n",
      "  delta = solve(optimizer.hessian, optimizer.gradient,\n",
      "/home/azetry/Projects/CBMP_FinalProject/env/lib/python3.10/site-packages/sksurv/linear_model/coxph.py:445: LinAlgWarning: Ill-conditioned matrix (rcond=1.30777e-23): result may not be accurate.\n",
      "  delta = solve(optimizer.hessian, optimizer.gradient,\n",
      "/home/azetry/Projects/CBMP_FinalProject/env/lib/python3.10/site-packages/sksurv/linear_model/coxph.py:445: LinAlgWarning: Ill-conditioned matrix (rcond=6.50356e-24): result may not be accurate.\n",
      "  delta = solve(optimizer.hessian, optimizer.gradient,\n",
      "/home/azetry/Projects/CBMP_FinalProject/env/lib/python3.10/site-packages/sksurv/linear_model/coxph.py:445: LinAlgWarning: Ill-conditioned matrix (rcond=2.73674e-23): result may not be accurate.\n",
      "  delta = solve(optimizer.hessian, optimizer.gradient,\n",
      "/home/azetry/Projects/CBMP_FinalProject/env/lib/python3.10/site-packages/sksurv/linear_model/coxph.py:445: LinAlgWarning: Ill-conditioned matrix (rcond=1.33244e-23): result may not be accurate.\n",
      "  delta = solve(optimizer.hessian, optimizer.gradient,\n",
      "/home/azetry/Projects/CBMP_FinalProject/env/lib/python3.10/site-packages/sksurv/linear_model/coxph.py:445: LinAlgWarning: Ill-conditioned matrix (rcond=8.33831e-24): result may not be accurate.\n",
      "  delta = solve(optimizer.hessian, optimizer.gradient,\n",
      "/home/azetry/Projects/CBMP_FinalProject/env/lib/python3.10/site-packages/sksurv/linear_model/coxph.py:232: RuntimeWarning: invalid value encountered in add\n",
      "  risk_set_x += exp_xw[k] * xk\n",
      "/home/azetry/Projects/CBMP_FinalProject/env/lib/python3.10/site-packages/sksurv/linear_model/coxph.py:233: RuntimeWarning: invalid value encountered in add\n",
      "  risk_set_xx += exp_xw[k] * xx\n",
      "/home/azetry/Projects/CBMP_FinalProject/env/lib/python3.10/site-packages/sksurv/linear_model/coxph.py:445: LinAlgWarning: Ill-conditioned matrix (rcond=4.39457e-23): result may not be accurate.\n",
      "  delta = solve(optimizer.hessian, optimizer.gradient,\n",
      "/home/azetry/Projects/CBMP_FinalProject/env/lib/python3.10/site-packages/sksurv/linear_model/coxph.py:174: RuntimeWarning: overflow encountered in exp\n",
      "  risk_set2 += np.exp(xw[k])\n",
      "/home/azetry/Projects/CBMP_FinalProject/env/lib/python3.10/site-packages/sksurv/linear_model/coxph.py:445: LinAlgWarning: Ill-conditioned matrix (rcond=1.98579e-23): result may not be accurate.\n",
      "  delta = solve(optimizer.hessian, optimizer.gradient,\n",
      "/home/azetry/Projects/CBMP_FinalProject/env/lib/python3.10/site-packages/sksurv/linear_model/coxph.py:445: LinAlgWarning: Ill-conditioned matrix (rcond=4.01921e-23): result may not be accurate.\n",
      "  delta = solve(optimizer.hessian, optimizer.gradient,\n",
      "/home/azetry/Projects/CBMP_FinalProject/env/lib/python3.10/site-packages/sksurv/linear_model/coxph.py:445: LinAlgWarning: Ill-conditioned matrix (rcond=4.37087e-24): result may not be accurate.\n",
      "  delta = solve(optimizer.hessian, optimizer.gradient,\n",
      "/home/azetry/Projects/CBMP_FinalProject/env/lib/python3.10/site-packages/sksurv/linear_model/coxph.py:445: LinAlgWarning: Ill-conditioned matrix (rcond=4.20159e-23): result may not be accurate.\n",
      "  delta = solve(optimizer.hessian, optimizer.gradient,\n",
      "/home/azetry/Projects/CBMP_FinalProject/env/lib/python3.10/site-packages/sksurv/linear_model/coxph.py:445: LinAlgWarning: Ill-conditioned matrix (rcond=5.6469e-24): result may not be accurate.\n",
      "  delta = solve(optimizer.hessian, optimizer.gradient,\n",
      "/home/azetry/Projects/CBMP_FinalProject/env/lib/python3.10/site-packages/sksurv/linear_model/coxph.py:445: LinAlgWarning: Ill-conditioned matrix (rcond=1.48111e-23): result may not be accurate.\n",
      "  delta = solve(optimizer.hessian, optimizer.gradient,\n",
      "/home/azetry/Projects/CBMP_FinalProject/env/lib/python3.10/site-packages/sksurv/linear_model/coxph.py:445: LinAlgWarning: Ill-conditioned matrix (rcond=8.82715e-23): result may not be accurate.\n",
      "  delta = solve(optimizer.hessian, optimizer.gradient,\n",
      "/home/azetry/Projects/CBMP_FinalProject/env/lib/python3.10/site-packages/sksurv/linear_model/coxph.py:445: LinAlgWarning: Ill-conditioned matrix (rcond=5.6303e-23): result may not be accurate.\n",
      "  delta = solve(optimizer.hessian, optimizer.gradient,\n",
      "/home/azetry/Projects/CBMP_FinalProject/env/lib/python3.10/site-packages/sksurv/linear_model/coxph.py:445: LinAlgWarning: Ill-conditioned matrix (rcond=2.27873e-23): result may not be accurate.\n",
      "  delta = solve(optimizer.hessian, optimizer.gradient,\n",
      "/home/azetry/Projects/CBMP_FinalProject/env/lib/python3.10/site-packages/sksurv/linear_model/coxph.py:445: LinAlgWarning: Ill-conditioned matrix (rcond=8.39199e-24): result may not be accurate.\n",
      "  delta = solve(optimizer.hessian, optimizer.gradient,\n",
      "/home/azetry/Projects/CBMP_FinalProject/env/lib/python3.10/site-packages/sksurv/linear_model/coxph.py:445: LinAlgWarning: Ill-conditioned matrix (rcond=5.49905e-23): result may not be accurate.\n",
      "  delta = solve(optimizer.hessian, optimizer.gradient,\n",
      "/home/azetry/Projects/CBMP_FinalProject/env/lib/python3.10/site-packages/sksurv/linear_model/coxph.py:445: LinAlgWarning: Ill-conditioned matrix (rcond=4.18416e-24): result may not be accurate.\n",
      "  delta = solve(optimizer.hessian, optimizer.gradient,\n",
      "/home/azetry/Projects/CBMP_FinalProject/env/lib/python3.10/site-packages/sksurv/linear_model/coxph.py:445: LinAlgWarning: Ill-conditioned matrix (rcond=3.66192e-23): result may not be accurate.\n",
      "  delta = solve(optimizer.hessian, optimizer.gradient,\n",
      "/home/azetry/Projects/CBMP_FinalProject/env/lib/python3.10/site-packages/sksurv/linear_model/coxph.py:445: LinAlgWarning: Ill-conditioned matrix (rcond=1.09486e-23): result may not be accurate.\n",
      "  delta = solve(optimizer.hessian, optimizer.gradient,\n",
      "/home/azetry/Projects/CBMP_FinalProject/env/lib/python3.10/site-packages/sksurv/linear_model/coxph.py:445: LinAlgWarning: Ill-conditioned matrix (rcond=2.67644e-23): result may not be accurate.\n",
      "  delta = solve(optimizer.hessian, optimizer.gradient,\n",
      "/home/azetry/Projects/CBMP_FinalProject/env/lib/python3.10/site-packages/sksurv/linear_model/coxph.py:445: LinAlgWarning: Ill-conditioned matrix (rcond=3.03359e-23): result may not be accurate.\n",
      "  delta = solve(optimizer.hessian, optimizer.gradient,\n",
      "/home/azetry/Projects/CBMP_FinalProject/env/lib/python3.10/site-packages/sksurv/linear_model/coxph.py:445: LinAlgWarning: Ill-conditioned matrix (rcond=2.62585e-23): result may not be accurate.\n",
      "  delta = solve(optimizer.hessian, optimizer.gradient,\n",
      "/home/azetry/Projects/CBMP_FinalProject/env/lib/python3.10/site-packages/sksurv/linear_model/coxph.py:445: LinAlgWarning: Ill-conditioned matrix (rcond=1.4498e-23): result may not be accurate.\n",
      "  delta = solve(optimizer.hessian, optimizer.gradient,\n",
      "/home/azetry/Projects/CBMP_FinalProject/env/lib/python3.10/site-packages/sksurv/linear_model/coxph.py:445: LinAlgWarning: Ill-conditioned matrix (rcond=5.20865e-23): result may not be accurate.\n",
      "  delta = solve(optimizer.hessian, optimizer.gradient,\n",
      "/home/azetry/Projects/CBMP_FinalProject/env/lib/python3.10/site-packages/sksurv/linear_model/coxph.py:445: LinAlgWarning: Ill-conditioned matrix (rcond=1.00101e-23): result may not be accurate.\n",
      "  delta = solve(optimizer.hessian, optimizer.gradient,\n",
      "/home/azetry/Projects/CBMP_FinalProject/env/lib/python3.10/site-packages/sksurv/linear_model/coxph.py:445: LinAlgWarning: Ill-conditioned matrix (rcond=6.89872e-25): result may not be accurate.\n",
      "  delta = solve(optimizer.hessian, optimizer.gradient,\n",
      "/home/azetry/Projects/CBMP_FinalProject/env/lib/python3.10/site-packages/sksurv/linear_model/coxph.py:183: RuntimeWarning: divide by zero encountered in log\n",
      "  loss -= (numerator - n_events * np.log(risk_set)) / n_samples\n",
      "/home/azetry/Projects/CBMP_FinalProject/env/lib/python3.10/site-packages/sksurv/linear_model/coxph.py:183: RuntimeWarning: invalid value encountered in scalar subtract\n",
      "  loss -= (numerator - n_events * np.log(risk_set)) / n_samples\n",
      "/home/azetry/Projects/CBMP_FinalProject/env/lib/python3.10/site-packages/sksurv/linear_model/coxph.py:242: RuntimeWarning: invalid value encountered in divide\n",
      "  z = risk_set_x / risk_set\n",
      "/home/azetry/Projects/CBMP_FinalProject/env/lib/python3.10/site-packages/sksurv/linear_model/coxph.py:245: RuntimeWarning: invalid value encountered in divide\n",
      "  a = risk_set_xx / risk_set\n"
     ]
    },
    {
     "name": "stdout",
     "output_type": "stream",
     "text": [
      "Err: search direction contains NaN or infinite values\n",
      "--------\n",
      "Exp: corr\n"
     ]
    },
    {
     "name": "stderr",
     "output_type": "stream",
     "text": [
      "/home/azetry/Projects/CBMP_FinalProject/env/lib/python3.10/site-packages/sksurv/linear_model/coxph.py:445: LinAlgWarning: Ill-conditioned matrix (rcond=3.11646e-23): result may not be accurate.\n",
      "  delta = solve(optimizer.hessian, optimizer.gradient,\n",
      "/home/azetry/Projects/CBMP_FinalProject/env/lib/python3.10/site-packages/sksurv/linear_model/coxph.py:177: RuntimeWarning: overflow encountered in exp\n",
      "  risk_set += np.exp(xw[k])\n",
      "/home/azetry/Projects/CBMP_FinalProject/env/lib/python3.10/site-packages/sksurv/linear_model/coxph.py:198: RuntimeWarning: overflow encountered in exp\n",
      "  exp_xw = np.exp(offset + np.dot(x, w))\n",
      "/home/azetry/Projects/CBMP_FinalProject/env/lib/python3.10/site-packages/sksurv/linear_model/coxph.py:232: RuntimeWarning: invalid value encountered in add\n",
      "  risk_set_x += exp_xw[k] * xk\n",
      "/home/azetry/Projects/CBMP_FinalProject/env/lib/python3.10/site-packages/sksurv/linear_model/coxph.py:233: RuntimeWarning: invalid value encountered in add\n",
      "  risk_set_xx += exp_xw[k] * xx\n",
      "/home/azetry/Projects/CBMP_FinalProject/env/lib/python3.10/site-packages/sksurv/linear_model/coxph.py:445: LinAlgWarning: Ill-conditioned matrix (rcond=6.10992e-23): result may not be accurate.\n",
      "  delta = solve(optimizer.hessian, optimizer.gradient,\n",
      "/home/azetry/Projects/CBMP_FinalProject/env/lib/python3.10/site-packages/sksurv/linear_model/coxph.py:445: LinAlgWarning: Ill-conditioned matrix (rcond=1.09721e-22): result may not be accurate.\n",
      "  delta = solve(optimizer.hessian, optimizer.gradient,\n",
      "/home/azetry/Projects/CBMP_FinalProject/env/lib/python3.10/site-packages/sksurv/linear_model/coxph.py:445: LinAlgWarning: Ill-conditioned matrix (rcond=1.27013e-23): result may not be accurate.\n",
      "  delta = solve(optimizer.hessian, optimizer.gradient,\n",
      "/home/azetry/Projects/CBMP_FinalProject/env/lib/python3.10/site-packages/sksurv/linear_model/coxph.py:174: RuntimeWarning: overflow encountered in exp\n",
      "  risk_set2 += np.exp(xw[k])\n",
      "/home/azetry/Projects/CBMP_FinalProject/env/lib/python3.10/site-packages/sksurv/linear_model/coxph.py:445: LinAlgWarning: Ill-conditioned matrix (rcond=5.85661e-23): result may not be accurate.\n",
      "  delta = solve(optimizer.hessian, optimizer.gradient,\n",
      "/home/azetry/Projects/CBMP_FinalProject/env/lib/python3.10/site-packages/sksurv/linear_model/coxph.py:445: LinAlgWarning: Ill-conditioned matrix (rcond=2.62799e-24): result may not be accurate.\n",
      "  delta = solve(optimizer.hessian, optimizer.gradient,\n",
      "/home/azetry/Projects/CBMP_FinalProject/env/lib/python3.10/site-packages/sksurv/linear_model/coxph.py:445: LinAlgWarning: Ill-conditioned matrix (rcond=1.14127e-22): result may not be accurate.\n",
      "  delta = solve(optimizer.hessian, optimizer.gradient,\n",
      "/home/azetry/Projects/CBMP_FinalProject/env/lib/python3.10/site-packages/sksurv/linear_model/coxph.py:445: LinAlgWarning: Ill-conditioned matrix (rcond=4.57806e-24): result may not be accurate.\n",
      "  delta = solve(optimizer.hessian, optimizer.gradient,\n",
      "/home/azetry/Projects/CBMP_FinalProject/env/lib/python3.10/site-packages/sksurv/linear_model/coxph.py:445: LinAlgWarning: Ill-conditioned matrix (rcond=6.50438e-23): result may not be accurate.\n",
      "  delta = solve(optimizer.hessian, optimizer.gradient,\n",
      "/home/azetry/Projects/CBMP_FinalProject/env/lib/python3.10/site-packages/sksurv/linear_model/coxph.py:445: LinAlgWarning: Ill-conditioned matrix (rcond=3.6538e-23): result may not be accurate.\n",
      "  delta = solve(optimizer.hessian, optimizer.gradient,\n",
      "/home/azetry/Projects/CBMP_FinalProject/env/lib/python3.10/site-packages/sksurv/linear_model/coxph.py:445: LinAlgWarning: Ill-conditioned matrix (rcond=4.87737e-23): result may not be accurate.\n",
      "  delta = solve(optimizer.hessian, optimizer.gradient,\n",
      "/home/azetry/Projects/CBMP_FinalProject/env/lib/python3.10/site-packages/sksurv/linear_model/coxph.py:445: LinAlgWarning: Ill-conditioned matrix (rcond=2.55051e-23): result may not be accurate.\n",
      "  delta = solve(optimizer.hessian, optimizer.gradient,\n",
      "/home/azetry/Projects/CBMP_FinalProject/env/lib/python3.10/site-packages/sksurv/linear_model/coxph.py:445: LinAlgWarning: Ill-conditioned matrix (rcond=3.72959e-23): result may not be accurate.\n",
      "  delta = solve(optimizer.hessian, optimizer.gradient,\n",
      "/home/azetry/Projects/CBMP_FinalProject/env/lib/python3.10/site-packages/sksurv/linear_model/coxph.py:445: LinAlgWarning: Ill-conditioned matrix (rcond=4.26684e-23): result may not be accurate.\n",
      "  delta = solve(optimizer.hessian, optimizer.gradient,\n",
      "/home/azetry/Projects/CBMP_FinalProject/env/lib/python3.10/site-packages/sksurv/linear_model/coxph.py:445: LinAlgWarning: Ill-conditioned matrix (rcond=6.6759e-23): result may not be accurate.\n",
      "  delta = solve(optimizer.hessian, optimizer.gradient,\n",
      "/home/azetry/Projects/CBMP_FinalProject/env/lib/python3.10/site-packages/sksurv/linear_model/coxph.py:445: LinAlgWarning: Ill-conditioned matrix (rcond=7.58874e-24): result may not be accurate.\n",
      "  delta = solve(optimizer.hessian, optimizer.gradient,\n",
      "/home/azetry/Projects/CBMP_FinalProject/env/lib/python3.10/site-packages/sksurv/linear_model/coxph.py:445: LinAlgWarning: Ill-conditioned matrix (rcond=1.16848e-22): result may not be accurate.\n",
      "  delta = solve(optimizer.hessian, optimizer.gradient,\n",
      "/home/azetry/Projects/CBMP_FinalProject/env/lib/python3.10/site-packages/sksurv/linear_model/coxph.py:445: LinAlgWarning: Ill-conditioned matrix (rcond=4.08733e-24): result may not be accurate.\n",
      "  delta = solve(optimizer.hessian, optimizer.gradient,\n",
      "/home/azetry/Projects/CBMP_FinalProject/env/lib/python3.10/site-packages/sksurv/linear_model/coxph.py:445: LinAlgWarning: Ill-conditioned matrix (rcond=2.13496e-23): result may not be accurate.\n",
      "  delta = solve(optimizer.hessian, optimizer.gradient,\n",
      "/home/azetry/Projects/CBMP_FinalProject/env/lib/python3.10/site-packages/sksurv/linear_model/coxph.py:445: LinAlgWarning: Ill-conditioned matrix (rcond=1.73447e-23): result may not be accurate.\n",
      "  delta = solve(optimizer.hessian, optimizer.gradient,\n"
     ]
    },
    {
     "name": "stdout",
     "output_type": "stream",
     "text": [
      "--------\n"
     ]
    },
    {
     "ename": "KeyboardInterrupt",
     "evalue": "",
     "output_type": "error",
     "traceback": [
      "\u001b[0;31m---------------------------------------------------------------------------\u001b[0m",
      "\u001b[0;31mKeyboardInterrupt\u001b[0m                         Traceback (most recent call last)",
      "Cell \u001b[0;32mIn[10], line 6\u001b[0m\n\u001b[1;32m      4\u001b[0m X_train_Selected \u001b[39m=\u001b[39m X_train[features]\n\u001b[1;32m      5\u001b[0m \u001b[39mtry\u001b[39;00m:\n\u001b[0;32m----> 6\u001b[0m     models[exp] \u001b[39m=\u001b[39m cox_pipeline\u001b[39m.\u001b[39;49mfit(X_train_Selected, y_train_struct)\n\u001b[1;32m      7\u001b[0m     \u001b[39mprint\u001b[39m(\u001b[39m\"\u001b[39m\u001b[39mDone.\u001b[39m\u001b[39m\"\u001b[39m)\n\u001b[1;32m      8\u001b[0m \u001b[39mexcept\u001b[39;00m \u001b[39mException\u001b[39;00m \u001b[39mas\u001b[39;00m e:\n",
      "File \u001b[0;32m~/Projects/CBMP_FinalProject/env/lib/python3.10/site-packages/sklearn/pipeline.py:382\u001b[0m, in \u001b[0;36mPipeline.fit\u001b[0;34m(self, X, y, **fit_params)\u001b[0m\n\u001b[1;32m    380\u001b[0m     \u001b[39mif\u001b[39;00m \u001b[39mself\u001b[39m\u001b[39m.\u001b[39m_final_estimator \u001b[39m!=\u001b[39m \u001b[39m\"\u001b[39m\u001b[39mpassthrough\u001b[39m\u001b[39m\"\u001b[39m:\n\u001b[1;32m    381\u001b[0m         fit_params_last_step \u001b[39m=\u001b[39m fit_params_steps[\u001b[39mself\u001b[39m\u001b[39m.\u001b[39msteps[\u001b[39m-\u001b[39m\u001b[39m1\u001b[39m][\u001b[39m0\u001b[39m]]\n\u001b[0;32m--> 382\u001b[0m         \u001b[39mself\u001b[39;49m\u001b[39m.\u001b[39;49m_final_estimator\u001b[39m.\u001b[39;49mfit(Xt, y, \u001b[39m*\u001b[39;49m\u001b[39m*\u001b[39;49mfit_params_last_step)\n\u001b[1;32m    384\u001b[0m \u001b[39mreturn\u001b[39;00m \u001b[39mself\u001b[39m\n",
      "File \u001b[0;32m~/Projects/CBMP_FinalProject/env/lib/python3.10/site-packages/sksurv/linear_model/coxph.py:444\u001b[0m, in \u001b[0;36mCoxPHSurvivalAnalysis.fit\u001b[0;34m(self, X, y)\u001b[0m\n\u001b[1;32m    440\u001b[0m     warnings\u001b[39m.\u001b[39mwarn((\u001b[39m'\u001b[39m\u001b[39mOptimization did not converge: Maximum number of iterations has been exceeded.\u001b[39m\u001b[39m'\u001b[39m),\n\u001b[1;32m    441\u001b[0m                   stacklevel\u001b[39m=\u001b[39m\u001b[39m2\u001b[39m, category\u001b[39m=\u001b[39mConvergenceWarning)\n\u001b[1;32m    442\u001b[0m     \u001b[39mbreak\u001b[39;00m\n\u001b[0;32m--> 444\u001b[0m optimizer\u001b[39m.\u001b[39;49mupdate(w)\n\u001b[1;32m    445\u001b[0m delta \u001b[39m=\u001b[39m solve(optimizer\u001b[39m.\u001b[39mhessian, optimizer\u001b[39m.\u001b[39mgradient,\n\u001b[1;32m    446\u001b[0m               overwrite_a\u001b[39m=\u001b[39m\u001b[39mFalse\u001b[39;00m, overwrite_b\u001b[39m=\u001b[39m\u001b[39mFalse\u001b[39;00m, check_finite\u001b[39m=\u001b[39m\u001b[39mFalse\u001b[39;00m)\n\u001b[1;32m    448\u001b[0m \u001b[39mif\u001b[39;00m \u001b[39mnot\u001b[39;00m np\u001b[39m.\u001b[39mall(np\u001b[39m.\u001b[39misfinite(delta)):\n",
      "File \u001b[0;32m~/Projects/CBMP_FinalProject/env/lib/python3.10/site-packages/sksurv/linear_model/coxph.py:216\u001b[0m, in \u001b[0;36mCoxPHOptimizer.update\u001b[0;34m(self, w, offset)\u001b[0m\n\u001b[1;32m    214\u001b[0m risk_set2 \u001b[39m=\u001b[39m \u001b[39m0\u001b[39m\n\u001b[1;32m    215\u001b[0m risk_set_x2 \u001b[39m=\u001b[39m np\u001b[39m.\u001b[39mzeros_like(risk_set_x)\n\u001b[0;32m--> 216\u001b[0m risk_set_xx2 \u001b[39m=\u001b[39m np\u001b[39m.\u001b[39;49mzeros_like(risk_set_xx)\n\u001b[1;32m    217\u001b[0m \u001b[39mwhile\u001b[39;00m k \u001b[39m<\u001b[39m n_samples \u001b[39mand\u001b[39;00m ti \u001b[39m==\u001b[39m time[k]:\n\u001b[1;32m    218\u001b[0m     \u001b[39m# preserve 2D shape of row vector\u001b[39;00m\n\u001b[1;32m    219\u001b[0m     xk \u001b[39m=\u001b[39m x[k:k \u001b[39m+\u001b[39m \u001b[39m1\u001b[39m]\n",
      "File \u001b[0;32m<__array_function__ internals>:200\u001b[0m, in \u001b[0;36mzeros_like\u001b[0;34m(*args, **kwargs)\u001b[0m\n",
      "File \u001b[0;32m~/Projects/CBMP_FinalProject/env/lib/python3.10/site-packages/numpy/core/numeric.py:142\u001b[0m, in \u001b[0;36mzeros_like\u001b[0;34m(a, dtype, order, subok, shape)\u001b[0m\n\u001b[1;32m    140\u001b[0m \u001b[39m# needed instead of a 0 to get same result as zeros for string dtypes\u001b[39;00m\n\u001b[1;32m    141\u001b[0m z \u001b[39m=\u001b[39m zeros(\u001b[39m1\u001b[39m, dtype\u001b[39m=\u001b[39mres\u001b[39m.\u001b[39mdtype)\n\u001b[0;32m--> 142\u001b[0m multiarray\u001b[39m.\u001b[39;49mcopyto(res, z, casting\u001b[39m=\u001b[39;49m\u001b[39m'\u001b[39;49m\u001b[39munsafe\u001b[39;49m\u001b[39m'\u001b[39;49m)\n\u001b[1;32m    143\u001b[0m \u001b[39mreturn\u001b[39;00m res\n",
      "File \u001b[0;32m<__array_function__ internals>:200\u001b[0m, in \u001b[0;36mcopyto\u001b[0;34m(*args, **kwargs)\u001b[0m\n",
      "\u001b[0;31mKeyboardInterrupt\u001b[0m: "
     ]
    }
   ],
   "source": [
    "models = dict()\n",
    "for exp, features in exps.items():\n",
    "    print(f\"Exp: {exp}\")\n",
    "    X_train_Selected = X_train[features]\n",
    "    try:\n",
    "        models[exp] = cox_pipeline.fit(X_train_Selected, y_train_struct)\n",
    "        print(\"Done.\")\n",
    "    except Exception as e:\n",
    "        print(f\"Err: {e}\")\n",
    "    finally:\n",
    "        print(\"-\"*8)"
   ]
  },
  {
   "cell_type": "code",
   "execution_count": null,
   "metadata": {},
   "outputs": [],
   "source": []
  }
 ],
 "metadata": {
  "kernelspec": {
   "display_name": "env",
   "language": "python",
   "name": "python3"
  },
  "language_info": {
   "codemirror_mode": {
    "name": "ipython",
    "version": 3
   },
   "file_extension": ".py",
   "mimetype": "text/x-python",
   "name": "python",
   "nbconvert_exporter": "python",
   "pygments_lexer": "ipython3",
   "version": "3.10.8"
  },
  "orig_nbformat": 4,
  "vscode": {
   "interpreter": {
    "hash": "8eb34f3bd954f485bd6d30164ade5b375cd6df28509bc396b0fefa3a204e699b"
   }
  }
 },
 "nbformat": 4,
 "nbformat_minor": 2
}
