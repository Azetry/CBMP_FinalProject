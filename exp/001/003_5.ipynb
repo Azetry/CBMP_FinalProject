{
 "cells": [
  {
   "attachments": {},
   "cell_type": "markdown",
   "metadata": {},
   "source": [
    "處理 features 內存有 recurrence"
   ]
  },
  {
   "cell_type": "code",
   "execution_count": 1,
   "metadata": {},
   "outputs": [],
   "source": [
    "import pandas as pd"
   ]
  },
  {
   "cell_type": "code",
   "execution_count": 2,
   "metadata": {},
   "outputs": [],
   "source": [
    "cor_df = pd.read_csv(\"../../data/selected_features/corr-recur-related-train.csv\").drop(columns=['recurrence'])\n",
    "p_cor_df = pd.read_csv(\"../../data/selected_features/cor_p-recur-related-train.csv\").drop(columns=['recurrence'])"
   ]
  },
  {
   "cell_type": "code",
   "execution_count": 4,
   "metadata": {},
   "outputs": [],
   "source": [
    "cor_df.to_csv(\"../../data/selected_features/corr-recur-related-train.csv\", index=False)\n",
    "p_cor_df.to_csv(\"../../data/selected_features/cor_p-recur-related-train.csv\", index=False)"
   ]
  },
  {
   "cell_type": "code",
   "execution_count": null,
   "metadata": {},
   "outputs": [],
   "source": []
  }
 ],
 "metadata": {
  "kernelspec": {
   "display_name": "env",
   "language": "python",
   "name": "python3"
  },
  "language_info": {
   "codemirror_mode": {
    "name": "ipython",
    "version": 3
   },
   "file_extension": ".py",
   "mimetype": "text/x-python",
   "name": "python",
   "nbconvert_exporter": "python",
   "pygments_lexer": "ipython3",
   "version": "3.10.8"
  },
  "orig_nbformat": 4,
  "vscode": {
   "interpreter": {
    "hash": "8eb34f3bd954f485bd6d30164ade5b375cd6df28509bc396b0fefa3a204e699b"
   }
  }
 },
 "nbformat": 4,
 "nbformat_minor": 2
}
