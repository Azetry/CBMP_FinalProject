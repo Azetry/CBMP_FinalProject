{
 "cells": [
  {
   "attachments": {},
   "cell_type": "markdown",
   "metadata": {},
   "source": [
    "Train Test Split"
   ]
  },
  {
   "cell_type": "code",
   "execution_count": 1,
   "metadata": {},
   "outputs": [],
   "source": [
    "import pandas as pd\n",
    "import numpy as np\n",
    "from sklearn.model_selection import StratifiedShuffleSplit"
   ]
  },
  {
   "cell_type": "code",
   "execution_count": 2,
   "metadata": {},
   "outputs": [],
   "source": [
    "all_df = pd.read_csv(\"../../data/raw/tcga_stad_all.csv\")"
   ]
  },
  {
   "cell_type": "code",
   "execution_count": 3,
   "metadata": {},
   "outputs": [
    {
     "data": {
      "text/plain": [
       "(247, 16308)"
      ]
     },
     "metadata": {},
     "output_type": "display_data"
    },
    {
     "data": {
      "text/html": [
       "<div>\n",
       "<style scoped>\n",
       "    .dataframe tbody tr th:only-of-type {\n",
       "        vertical-align: middle;\n",
       "    }\n",
       "\n",
       "    .dataframe tbody tr th {\n",
       "        vertical-align: top;\n",
       "    }\n",
       "\n",
       "    .dataframe thead th {\n",
       "        text-align: right;\n",
       "    }\n",
       "</style>\n",
       "<table border=\"1\" class=\"dataframe\">\n",
       "  <thead>\n",
       "    <tr style=\"text-align: right;\">\n",
       "      <th></th>\n",
       "      <th>ENSG00000082929.8</th>\n",
       "      <th>ENSG00000083622.8</th>\n",
       "      <th>ENSG00000093100.13</th>\n",
       "      <th>ENSG00000099869.8</th>\n",
       "      <th>ENSG00000103472.10</th>\n",
       "      <th>ENSG00000115934.11</th>\n",
       "      <th>ENSG00000116652.6</th>\n",
       "      <th>ENSG00000117242.7</th>\n",
       "      <th>ENSG00000120664.11</th>\n",
       "      <th>ENSG00000122043.11</th>\n",
       "      <th>...</th>\n",
       "      <th>ENSG00000288657.1</th>\n",
       "      <th>ENSG00000288659.1</th>\n",
       "      <th>ENSG00000288662.1</th>\n",
       "      <th>ENSG00000288663.1</th>\n",
       "      <th>ENSG00000288667.1</th>\n",
       "      <th>ENSG00000288670.1</th>\n",
       "      <th>survival_status</th>\n",
       "      <th>survival_time</th>\n",
       "      <th>recurrence</th>\n",
       "      <th>metastasis</th>\n",
       "    </tr>\n",
       "  </thead>\n",
       "  <tbody>\n",
       "    <tr>\n",
       "      <th>0</th>\n",
       "      <td>0.0824</td>\n",
       "      <td>0.5953</td>\n",
       "      <td>0.0739</td>\n",
       "      <td>0.0111</td>\n",
       "      <td>0.3098</td>\n",
       "      <td>0.0</td>\n",
       "      <td>0.4138</td>\n",
       "      <td>4.3472</td>\n",
       "      <td>0.3879</td>\n",
       "      <td>0.0161</td>\n",
       "      <td>...</td>\n",
       "      <td>0.0</td>\n",
       "      <td>0.0</td>\n",
       "      <td>0.5330</td>\n",
       "      <td>0.3647</td>\n",
       "      <td>2.6211</td>\n",
       "      <td>5.4329</td>\n",
       "      <td>0</td>\n",
       "      <td>27.550383</td>\n",
       "      <td>0</td>\n",
       "      <td>0</td>\n",
       "    </tr>\n",
       "    <tr>\n",
       "      <th>1</th>\n",
       "      <td>0.0000</td>\n",
       "      <td>0.0000</td>\n",
       "      <td>0.0738</td>\n",
       "      <td>0.0000</td>\n",
       "      <td>0.4453</td>\n",
       "      <td>0.0</td>\n",
       "      <td>0.1048</td>\n",
       "      <td>2.4438</td>\n",
       "      <td>0.0106</td>\n",
       "      <td>0.0269</td>\n",
       "      <td>...</td>\n",
       "      <td>0.0</td>\n",
       "      <td>0.0</td>\n",
       "      <td>0.0000</td>\n",
       "      <td>0.2522</td>\n",
       "      <td>0.0000</td>\n",
       "      <td>3.5640</td>\n",
       "      <td>1</td>\n",
       "      <td>15.024493</td>\n",
       "      <td>-1</td>\n",
       "      <td>0</td>\n",
       "    </tr>\n",
       "    <tr>\n",
       "      <th>2</th>\n",
       "      <td>0.0000</td>\n",
       "      <td>0.9866</td>\n",
       "      <td>0.0156</td>\n",
       "      <td>0.0235</td>\n",
       "      <td>0.0446</td>\n",
       "      <td>0.0</td>\n",
       "      <td>0.3795</td>\n",
       "      <td>1.9204</td>\n",
       "      <td>0.0335</td>\n",
       "      <td>0.0000</td>\n",
       "      <td>...</td>\n",
       "      <td>0.0</td>\n",
       "      <td>0.0</td>\n",
       "      <td>0.0000</td>\n",
       "      <td>0.1479</td>\n",
       "      <td>1.6586</td>\n",
       "      <td>7.2789</td>\n",
       "      <td>1</td>\n",
       "      <td>9.238255</td>\n",
       "      <td>-1</td>\n",
       "      <td>0</td>\n",
       "    </tr>\n",
       "    <tr>\n",
       "      <th>3</th>\n",
       "      <td>0.0000</td>\n",
       "      <td>93.2180</td>\n",
       "      <td>0.0353</td>\n",
       "      <td>0.0000</td>\n",
       "      <td>0.2016</td>\n",
       "      <td>0.0</td>\n",
       "      <td>0.0429</td>\n",
       "      <td>2.1869</td>\n",
       "      <td>0.0202</td>\n",
       "      <td>0.0000</td>\n",
       "      <td>...</td>\n",
       "      <td>0.0</td>\n",
       "      <td>0.0</td>\n",
       "      <td>0.0000</td>\n",
       "      <td>0.2053</td>\n",
       "      <td>0.0000</td>\n",
       "      <td>3.1249</td>\n",
       "      <td>0</td>\n",
       "      <td>12.657396</td>\n",
       "      <td>-1</td>\n",
       "      <td>0</td>\n",
       "    </tr>\n",
       "    <tr>\n",
       "      <th>4</th>\n",
       "      <td>0.1581</td>\n",
       "      <td>0.9178</td>\n",
       "      <td>0.1329</td>\n",
       "      <td>0.0000</td>\n",
       "      <td>0.0912</td>\n",
       "      <td>0.0</td>\n",
       "      <td>0.1877</td>\n",
       "      <td>1.4758</td>\n",
       "      <td>0.0229</td>\n",
       "      <td>0.0000</td>\n",
       "      <td>...</td>\n",
       "      <td>0.0</td>\n",
       "      <td>0.0</td>\n",
       "      <td>2.3007</td>\n",
       "      <td>0.3472</td>\n",
       "      <td>2.6401</td>\n",
       "      <td>5.6912</td>\n",
       "      <td>0</td>\n",
       "      <td>33.402374</td>\n",
       "      <td>-1</td>\n",
       "      <td>0</td>\n",
       "    </tr>\n",
       "  </tbody>\n",
       "</table>\n",
       "<p>5 rows × 16308 columns</p>\n",
       "</div>"
      ],
      "text/plain": [
       "   ENSG00000082929.8  ENSG00000083622.8  ENSG00000093100.13  \\\n",
       "0             0.0824             0.5953              0.0739   \n",
       "1             0.0000             0.0000              0.0738   \n",
       "2             0.0000             0.9866              0.0156   \n",
       "3             0.0000            93.2180              0.0353   \n",
       "4             0.1581             0.9178              0.1329   \n",
       "\n",
       "   ENSG00000099869.8  ENSG00000103472.10  ENSG00000115934.11  \\\n",
       "0             0.0111              0.3098                 0.0   \n",
       "1             0.0000              0.4453                 0.0   \n",
       "2             0.0235              0.0446                 0.0   \n",
       "3             0.0000              0.2016                 0.0   \n",
       "4             0.0000              0.0912                 0.0   \n",
       "\n",
       "   ENSG00000116652.6  ENSG00000117242.7  ENSG00000120664.11  \\\n",
       "0             0.4138             4.3472              0.3879   \n",
       "1             0.1048             2.4438              0.0106   \n",
       "2             0.3795             1.9204              0.0335   \n",
       "3             0.0429             2.1869              0.0202   \n",
       "4             0.1877             1.4758              0.0229   \n",
       "\n",
       "   ENSG00000122043.11  ...  ENSG00000288657.1  ENSG00000288659.1  \\\n",
       "0              0.0161  ...                0.0                0.0   \n",
       "1              0.0269  ...                0.0                0.0   \n",
       "2              0.0000  ...                0.0                0.0   \n",
       "3              0.0000  ...                0.0                0.0   \n",
       "4              0.0000  ...                0.0                0.0   \n",
       "\n",
       "   ENSG00000288662.1  ENSG00000288663.1  ENSG00000288667.1  ENSG00000288670.1  \\\n",
       "0             0.5330             0.3647             2.6211             5.4329   \n",
       "1             0.0000             0.2522             0.0000             3.5640   \n",
       "2             0.0000             0.1479             1.6586             7.2789   \n",
       "3             0.0000             0.2053             0.0000             3.1249   \n",
       "4             2.3007             0.3472             2.6401             5.6912   \n",
       "\n",
       "   survival_status  survival_time  recurrence  metastasis  \n",
       "0                0      27.550383           0           0  \n",
       "1                1      15.024493          -1           0  \n",
       "2                1       9.238255          -1           0  \n",
       "3                0      12.657396          -1           0  \n",
       "4                0      33.402374          -1           0  \n",
       "\n",
       "[5 rows x 16308 columns]"
      ]
     },
     "metadata": {},
     "output_type": "display_data"
    }
   ],
   "source": [
    "display(all_df.shape)\n",
    "display(all_df.head())"
   ]
  },
  {
   "cell_type": "code",
   "execution_count": 4,
   "metadata": {},
   "outputs": [],
   "source": [
    "X = all_df.drop(columns=['survival_status', 'survival_time', 'recurrence', 'metastasis'])\n",
    "y_survival = all_df['survival_status']"
   ]
  },
  {
   "cell_type": "code",
   "execution_count": 5,
   "metadata": {},
   "outputs": [],
   "source": [
    "sss = StratifiedShuffleSplit(n_splits=1,test_size=0.3,random_state=0)\n",
    "train_index, test_index = sss.split(X, y_survival).__next__()"
   ]
  },
  {
   "cell_type": "code",
   "execution_count": 7,
   "metadata": {},
   "outputs": [],
   "source": [
    "training_data = all_df.iloc[train_index,:]\n",
    "test_data = all_df.iloc[test_index,:]"
   ]
  },
  {
   "cell_type": "code",
   "execution_count": 11,
   "metadata": {},
   "outputs": [
    {
     "data": {
      "text/plain": [
       " 0    79\n",
       "-1    73\n",
       " 1    20\n",
       "Name: recurrence, dtype: int64"
      ]
     },
     "execution_count": 11,
     "metadata": {},
     "output_type": "execute_result"
    }
   ],
   "source": [
    "training_data.recurrence.value_counts()"
   ]
  },
  {
   "cell_type": "code",
   "execution_count": 12,
   "metadata": {},
   "outputs": [],
   "source": [
    "training_data.to_csv(\"../../data/train_test/training.csv\", index=False)\n",
    "test_data.to_csv(\"../../data/train_test/test.csv\", index=False)"
   ]
  },
  {
   "cell_type": "code",
   "execution_count": null,
   "metadata": {},
   "outputs": [],
   "source": []
  }
 ],
 "metadata": {
  "kernelspec": {
   "display_name": "env",
   "language": "python",
   "name": "python3"
  },
  "language_info": {
   "codemirror_mode": {
    "name": "ipython",
    "version": 3
   },
   "file_extension": ".py",
   "mimetype": "text/x-python",
   "name": "python",
   "nbconvert_exporter": "python",
   "pygments_lexer": "ipython3",
   "version": "3.10.8"
  },
  "orig_nbformat": 4,
  "vscode": {
   "interpreter": {
    "hash": "8eb34f3bd954f485bd6d30164ade5b375cd6df28509bc396b0fefa3a204e699b"
   }
  }
 },
 "nbformat": 4,
 "nbformat_minor": 2
}
